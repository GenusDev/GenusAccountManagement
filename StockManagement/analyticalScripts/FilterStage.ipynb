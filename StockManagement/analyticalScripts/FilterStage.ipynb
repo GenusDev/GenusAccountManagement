{
 "cells": [
  {
   "cell_type": "code",
   "execution_count": 37,
   "metadata": {
    "collapsed": true
   },
   "outputs": [],
   "source": [
    "#data management libraries\n",
    "import requests\n",
    "from lxml import html\n",
    "import urllib\n",
    "import webbrowser\n",
    "import selenium\n",
    "from selenium import webdriver\n",
    "from selenium.webdriver.common.keys import Keys\n",
    "import glob, os\n",
    "from os import path\n",
    "import xlrd\n",
    "import json\n",
    "import time\n",
    "import pprint\n",
    "\n",
    "#data libaries\n",
    "import datetime\n",
    "import matplotlib.pyplot as plt\n",
    "from matplotlib import style\n",
    "import numpy as np\n",
    "import pandas as pd\n",
    "import pandas_datareader.data as web\n",
    "\n",
    "#Data Sources and Management\n",
    "import wikipedia\n",
    "import bs4\n",
    "from bs4 import BeautifulSoup\n",
    "import requests\n",
    "import io\n",
    "\n",
    "# https://github.com/codesociety/friartuck  - look into structure for your project, do a clone edit and maybe even a pull request  "
   ]
  },
  {
   "cell_type": "markdown",
   "metadata": {},
   "source": [
    "# Classes\n",
    "\n",
    "## - CompanyInfo - \n",
    "### Attributes:\n",
    "    - all the company info outputs\n",
    "    - relevant search info \n",
    "        - like how many queries it took to find the page\n",
    "        - html contents \n",
    "        - last updated\n",
    "### - Methods -\n",
    "    - log my wikiInfo to a separate pickle\n",
    "    - update dataframe and save to a pickle \n",
    "    \n",
    "\n",
    "## - AnalyticalSession - \n",
    "### Attributes:\n",
    "    - date of analysis \n",
    "    - outputs - \n",
    "        stocks suggested\n",
    "    - Risk tolerance \n",
    "### Methods\n",
    "    - Run various kinds of analysis\n",
    "    - Run log comments\n",
    "\n",
    "\n",
    "## - Portfolio - \n",
    "### Attributes:\n",
    "    - current make up of portfolio \n",
    "    - proposed make up of portfolio \n",
    "    - earnings\n",
    "    - risk level\n",
    "### Methods\n",
    "    - show attributes\n",
    "    - pull portfolio data\n",
    "\n",
    "\n",
    "# Program Interface\n",
    "\n",
    "- Portfolio is the main object interacted with in the interface \n",
    "- Can deploy an analytical session (might be done at particular intervals eventually) \n",
    "- an analytical session summarizes a broad set of company analytics, though a company's analysis can also be a separate object "
   ]
  },
  {
   "cell_type": "code",
   "execution_count": 24,
   "metadata": {
    "collapsed": true
   },
   "outputs": [],
   "source": [
    "class CompanyWikiProfile:  \n",
    "    \n",
    "    def __init__(self,companyName):\n",
    "        self.name = companyName\n",
    "        self.wikiProfileInfo = self.searchAndFind(companyName).infoBoxData\n",
    "\n",
    "    def searchAndFind(self,name):\n",
    "        searchResults = wikipedia.search(name)\n",
    "\n",
    "        for eachResult in searchResults:\n",
    "            eachResultsWikiData = self.wikiData(eachResult) \n",
    "            eachResultsWikiData.pullPageData()\n",
    "            if eachResultsWikiData.hasCompanyData():\n",
    "                return eachResultsWikiData\n",
    "                break\n",
    "            else:\n",
    "                pass        \n",
    "\n",
    "    class wikiData(object):\n",
    "        def __init__(self, search):\n",
    "            print(search)\n",
    "            searchPage = wikipedia.page(search)\n",
    "            print(searchPage.title)\n",
    "            html = searchPage.html()\n",
    "            self.soup = BeautifulSoup(html)\n",
    "\n",
    "        def pullPageData(self):\n",
    "            InfoTable = self.soup.find(class_='infobox')\n",
    "            allRows = InfoTable.find_all('tr')\n",
    "            infoBoxData = {}\n",
    "            self.test = \"Testing\"\n",
    "            for eachRow in allRows:\n",
    "                try:\n",
    "                    label = str(eachRow.th.text).replace('\\n', '')\n",
    "                    info = str(eachRow.td.text).replace('\\n', '')\n",
    "                    infoBoxData[label] = info\n",
    "                except:\n",
    "                    pass\n",
    "            print(infoBoxData)\n",
    "            self.infoBoxData = infoBoxData\n",
    "\n",
    "\n",
    "        def hasCompanyData(self):\n",
    "            textToSearchFor = ['Founded','Industry',\"Traded as\"]\n",
    "            for each in textToSearchFor:  \n",
    "                if each in self.infoBoxData.keys():\n",
    "                    return True\n",
    "                    break\n",
    "            else:\n",
    "                return False\n",
    "\n",
    "\n",
    "        def grabRelevantData():\n",
    "            test = self.soup\n",
    "                \n",
    "\n",
    "# Merge Dataframes         \n",
    "# Convert data early on into useful data"
   ]
  },
  {
   "cell_type": "code",
   "execution_count": 26,
   "metadata": {},
   "outputs": [
    {
     "name": "stdout",
     "output_type": "stream",
     "text": [
      "Tesla, Inc.\n",
      "Tesla, Inc.\n"
     ]
    },
    {
     "name": "stderr",
     "output_type": "stream",
     "text": [
      "/Users/matthewsteele/anaconda3/lib/python3.6/site-packages/bs4/__init__.py:181: UserWarning: No parser was explicitly specified, so I'm using the best available HTML parser for this system (\"lxml\"). This usually isn't a problem, but if you run this code on another system, or in a different virtual environment, it may use a different parser and behave differently.\n",
      "\n",
      "The code that caused this warning is on line 193 of the file /Users/matthewsteele/anaconda3/lib/python3.6/runpy.py. To get rid of this warning, change code that looks like this:\n",
      "\n",
      " BeautifulSoup(YOUR_MARKUP})\n",
      "\n",
      "to this:\n",
      "\n",
      " BeautifulSoup(YOUR_MARKUP, \"lxml\")\n",
      "\n",
      "  markup_type=markup_type))\n"
     ]
    },
    {
     "name": "stdout",
     "output_type": "stream",
     "text": [
      "{'Type': 'Public', 'Traded\\xa0as': 'NASDAQ:\\xa0TSLANASDAQ-100 ComponentRussell 1000 Component', 'ISIN': 'US88160R1014', 'Industry': 'AutomotiveEnergy storage', 'Founded': 'July\\xa01, 2003; 15 years ago\\xa0(2003-07-01), in Delaware, U.S.[1]', 'Founders': 'Martin EberhardMarc TarpenningCo-founders:Ian Wright[i]Elon Musk[i]J. B. Straubel[i]', 'Headquarters': 'Palo Alto, California, U.S.', 'Area served': 'Worldwide', 'Key people': 'Elon Musk(Chairman & CEO)Jeffrey Brian Straubel(CTO)Deepak Ahuja(CFO)Jérôme Guillen(President, Automotive)', 'Products': 'Electric VehiclesTesla Energy', 'Production output': ' 101,312 vehicles (2017)', 'Revenue': ' US$ 11.759 billion (2017)', 'Operating income': ' US$ -1.632 billion (2017)', 'Net income': ' US$ -1.961 billion (2017)', 'Total assets': ' US$ 28.655 billion (2017)', 'Total equity': ' US$ 4.237 billion (2017)', 'Number of employees': '37,543 (2017)', 'Subsidiaries': 'SolarCityTesla Grohmann Automation', 'Website': 'Tesla.com'}\n"
     ]
    }
   ],
   "source": [
    "TSLAWikiProfile = CompanyWikiProfile(\"TSLA\")"
   ]
  },
  {
   "cell_type": "code",
   "execution_count": 42,
   "metadata": {},
   "outputs": [
    {
     "name": "stdout",
     "output_type": "stream",
     "text": [
      "{   'Area served': 'Worldwide',\n",
      "    'Founded': 'July\\xa01, 2003; 15 years ago\\xa0(2003-07-01), in Delaware, '\n",
      "               'U.S.[1]',\n",
      "    'Founders': 'Martin EberhardMarc TarpenningCo-founders:Ian Wright[i]Elon '\n",
      "                'Musk[i]J. B. Straubel[i]',\n",
      "    'Headquarters': 'Palo Alto, California, U.S.',\n",
      "    'ISIN': 'US88160R1014',\n",
      "    'Industry': 'AutomotiveEnergy storage',\n",
      "    'Key people': 'Elon Musk(Chairman & CEO)Jeffrey Brian Straubel(CTO)Deepak '\n",
      "                  'Ahuja(CFO)Jérôme Guillen(President, Automotive)',\n",
      "    'Net income': ' US$ -1.961 billion (2017)',\n",
      "    'Number of employees': '37,543 (2017)',\n",
      "    'Operating income': ' US$ -1.632 billion (2017)',\n",
      "    'Production output': ' 101,312 vehicles (2017)',\n",
      "    'Products': 'Electric VehiclesTesla Energy',\n",
      "    'Revenue': ' US$ 11.759 billion (2017)',\n",
      "    'Subsidiaries': 'SolarCityTesla Grohmann Automation',\n",
      "    'Total assets': ' US$ 28.655 billion (2017)',\n",
      "    'Total equity': ' US$ 4.237 billion (2017)',\n",
      "    'Traded\\xa0as': 'NASDAQ:\\xa0TSLANASDAQ-100 ComponentRussell 1000 Component',\n",
      "    'Type': 'Public',\n",
      "    'Website': 'Tesla.com'}\n"
     ]
    }
   ],
   "source": [
    "\n",
    "\n",
    "pp = pprint.PrettyPrinter(indent=4)\n",
    "pp.pprint(TSLAWikiProfile.wikiProfileInfo.infoBoxData)\n"
   ]
  },
  {
   "cell_type": "code",
   "execution_count": 6,
   "metadata": {},
   "outputs": [
    {
     "name": "stdout",
     "output_type": "stream",
     "text": [
      "['Tesla, Inc.', \"Elon Musk's Tesla Roadster\", 'Tennessee State Library and Archives', 'Tesla Factory', 'Tesla Powerwall', 'Passion Made Possible', 'Electric vehicle industry in India', 'Tesla Model 3', 'Tesla Model S', 'Tesla Model X']\n"
     ]
    }
   ],
   "source": [
    "searchPage = wikipedia.search(\"TSLA\")\n",
    "print(searchPage)"
   ]
  },
  {
   "cell_type": "code",
   "execution_count": 8,
   "metadata": {},
   "outputs": [
    {
     "ename": "NameError",
     "evalue": "name 'AllStockTickerDataSymbolsandBasicData' is not defined",
     "output_type": "error",
     "traceback": [
      "\u001b[0;31m---------------------------------------------------------------------------\u001b[0m",
      "\u001b[0;31mNameError\u001b[0m                                 Traceback (most recent call last)",
      "\u001b[0;32m<ipython-input-8-d789a2dbf550>\u001b[0m in \u001b[0;36m<module>\u001b[0;34m()\u001b[0m\n\u001b[0;32m----> 1\u001b[0;31m \u001b[0mTSLACompanyPandasDataFrame\u001b[0m \u001b[0;34m=\u001b[0m \u001b[0mAllStockTickerDataSymbolsandBasicData\u001b[0m\u001b[0;34m.\u001b[0m\u001b[0mloc\u001b[0m\u001b[0;34m[\u001b[0m\u001b[0mAllStockTickerDataSymbolsandBasicData\u001b[0m\u001b[0;34m[\u001b[0m\u001b[0;34m\"Symbol\"\u001b[0m\u001b[0;34m]\u001b[0m \u001b[0;34m==\u001b[0m \u001b[0;34m\"TSLA\"\u001b[0m\u001b[0;34m]\u001b[0m\u001b[0;34m\u001b[0m\u001b[0m\n\u001b[0m\u001b[1;32m      2\u001b[0m \u001b[0mTSLA\u001b[0m \u001b[0;34m=\u001b[0m  \u001b[0mCompanyProfile\u001b[0m\u001b[0;34m(\u001b[0m\u001b[0mTSLACompanyPandasDataFrame\u001b[0m\u001b[0;34m)\u001b[0m\u001b[0;34m\u001b[0m\u001b[0m\n\u001b[1;32m      3\u001b[0m \u001b[0mwikiData\u001b[0m \u001b[0;34m=\u001b[0m \u001b[0mTSLA\u001b[0m\u001b[0;34m.\u001b[0m\u001b[0mupdateWikiData\u001b[0m\u001b[0;34m(\u001b[0m\u001b[0;34m)\u001b[0m\u001b[0;34m\u001b[0m\u001b[0m\n",
      "\u001b[0;31mNameError\u001b[0m: name 'AllStockTickerDataSymbolsandBasicData' is not defined"
     ]
    }
   ],
   "source": [
    "TSLACompanyPandasDataFrame = AllStockTickerDataSymbolsandBasicData.loc[AllStockTickerDataSymbolsandBasicData[\"Symbol\"] == \"TSLA\"]\n",
    "TSLA =  CompanyProfile(TSLACompanyPandasDataFrame)\n",
    "wikiData = TSLA.updateWikiData()"
   ]
  },
  {
   "cell_type": "code",
   "execution_count": 10,
   "metadata": {
    "collapsed": true
   },
   "outputs": [],
   "source": [
    "#Data Management Module\n",
    "\n",
    "class StockData:\n",
    "\n",
    "    def __init__(self):        \n",
    "        self.date = datetime.date.today().strftime('%Y%m%d')\n",
    "\n",
    "    def pullAllStockTickers(self):\n",
    "        nasdaqTickersURL = 'https://www.nasdaq.com/screening/companies-by-name.aspx?letter=0&exchange=nyse&render=download'\n",
    "        nyseTickersURL = 'https://www.nasdaq.com/screening/companies-by-name.aspx?letter=0&exchange=nasdaq&render=download'\n",
    "        amexTickersURL = 'https://www.nasdaq.com/screening/companies-by-name.aspx?letter=0&exchange=amex&render=download'\n",
    "\n",
    "        nyseData = pullStockTickers(nyseTickersURL)\n",
    "        nasdaqData = pullStockTickers(nasdaqTickersURL)\n",
    "        amexData = pullStockTickers(amexTickersURL)\n",
    "        \n",
    "        verticalStack = pd.concat([nyseData, nasdaqData], axis=0)\n",
    "        verticalStack = pd.concat([verticalStack, amexData], axis=0)\n",
    "        verticalStackReindexed = verticalStack.reset_index(drop=True)\n",
    "\n",
    "        def pullStockTickers(URL):\n",
    "            nyseTickersrespose = requests.get(URL).content\n",
    "            nyseTickersData = pd.read_csv(io.StringIO(nyseTickersrespose.decode('utf-8')))\n",
    "            return nyseTickersData\n",
    "        \n",
    "        self.StockTickers = verticalStackReindexed\n",
    "        return verticalStackReindexed\n",
    "      \n",
    "#     def updateStockDatawithWikiPastPickle(self,dateSpecified):       \n",
    "#         def doupdateStockDatawithWikiPastPickle():\n",
    "#             mostRecentWikiData = loadpickle(dateSpecified)\n",
    "#             StockDataupdatedWithWikiData = joinBasedOnSymbol(mostRecentData)\n",
    "#             self.data = StockDataupdatedWithWikiData\n",
    "#             return StockDataupdatedWithWikiData\n",
    "\n",
    "#         def loadpickle(dateSpecified):\n",
    "        \n",
    "#         def joinBasedOnSymbol(mostRecentData):\n",
    "#             self.data \n",
    "        \n",
    "#         doupdateStockDatawithWikiPastPickle()\n",
    "            \n",
    "    def scrapeAndSaveWikiDataForEachTicker(self):        \n",
    "        def runscrapeAndSaveWikiDataForEachTicker(self):\n",
    "            for eachTicker in self.StockTickers[\"Symbol\"]:\n",
    "                CompanyPandasDataFrame = AllStockTickerDataSymbolsandBasicData.loc[AllStockTickerDataSymbolsandBasicData[\"Symbol\"] == eachTicker]\n",
    "                specificCompanyProfile =  CompanyProfile(CompanyPandasDataFrame)\n",
    "                \n",
    "                convertCompanyDataToDataFrame(specificCompanyProfile)\n",
    "                saveStocktoPickle(CompanyProfile)\n",
    "\n",
    "                \n",
    "            #when all stocks have run then run update data withpickle \n",
    "\n",
    "        def convertCompanyDataToDataFrame(specificCompanyProfile):\n",
    "            \n",
    "            justFillingThisFunction = specificCompanyProfile\n",
    "            \n",
    "\n",
    "    \n",
    "        def SaveData(): \n",
    "            IPODatesPickleLatest = loadIPOPickleData()\n",
    "            print(IPODatesPickleLatest.keys())\n",
    "\n",
    "            for eachTicker in data.Symbol[0:10]:\n",
    "                if eachTicker not in IPODatesPickleLatest.keys():\n",
    "                    #add in if statement to look up to see if there is already data available in data\n",
    "                    yearLookUpandRecord(eachTicker)\n",
    "                    time.sleep(60)\n",
    "                else:\n",
    "                    pass\n",
    "\n",
    "        runscrapeAndSaveWikiDataForEachTicker()\n",
    "     \n",
    "\n",
    "        "
   ]
  },
  {
   "cell_type": "code",
   "execution_count": null,
   "metadata": {
    "collapsed": true
   },
   "outputs": [],
   "source": [
    "def convertAndMergeDF(Dict,BaseData):\n",
    "    print(type(BaseData))\n",
    "    print(Dict)\n",
    "    newDataFrame = pd.DataFrame(Dict, index=[0])\n",
    "    print(type(newDataFrame))\n",
    "    print(newDataFrame)\n",
    "\n",
    "    DataMerged = pd.concat([newDataFrame, BaseData], axis=0)\n",
    "    DataMergedandReindexed = verticalStack.reset_index(drop=True)\n",
    "\n",
    "    print(DataMergedandReindexed)\n",
    "\n",
    "    return DataMergedandReindexed"
   ]
  },
  {
   "cell_type": "code",
   "execution_count": 17,
   "metadata": {},
   "outputs": [
    {
     "data": {
      "text/plain": [
       "<Response [200]>"
      ]
     },
     "execution_count": 17,
     "metadata": {},
     "output_type": "execute_result"
    }
   ],
   "source": []
  },
  {
   "cell_type": "code",
   "execution_count": 1,
   "metadata": {},
   "outputs": [
    {
     "ename": "ModuleNotFoundError",
     "evalue": "No module named 'twill'",
     "output_type": "error",
     "traceback": [
      "\u001b[0;31m---------------------------------------------------------------------------\u001b[0m",
      "\u001b[0;31mModuleNotFoundError\u001b[0m                       Traceback (most recent call last)",
      "\u001b[0;32m<ipython-input-1-d73063ec2def>\u001b[0m in \u001b[0;36m<module>\u001b[0;34m()\u001b[0m\n\u001b[0;32m----> 1\u001b[0;31m \u001b[0;32mfrom\u001b[0m \u001b[0mtwill\u001b[0m\u001b[0;34m.\u001b[0m\u001b[0mcommands\u001b[0m \u001b[0;32mimport\u001b[0m \u001b[0;34m*\u001b[0m\u001b[0;34m\u001b[0m\u001b[0m\n\u001b[0m",
      "\u001b[0;31mModuleNotFoundError\u001b[0m: No module named 'twill'"
     ]
    }
   ],
   "source": [
    "TSLA =  CompanyProfile(TslaCompanyPandasDataFrame)"
   ]
  },
  {
   "cell_type": "code",
   "execution_count": 11,
   "metadata": {},
   "outputs": [
    {
     "ename": "ModuleNotFoundError",
     "evalue": "No module named 'PullTickers'",
     "output_type": "error",
     "traceback": [
      "\u001b[0;31m---------------------------------------------------------------------------\u001b[0m",
      "\u001b[0;31mModuleNotFoundError\u001b[0m                       Traceback (most recent call last)",
      "\u001b[0;32m<ipython-input-11-50272fd77845>\u001b[0m in \u001b[0;36m<module>\u001b[0;34m()\u001b[0m\n\u001b[0;32m----> 1\u001b[0;31m \u001b[0;32mimport\u001b[0m \u001b[0mPullTickers\u001b[0m\u001b[0;34m\u001b[0m\u001b[0m\n\u001b[0m\u001b[1;32m      2\u001b[0m \u001b[0mAllStockTickerDataSymbolsandBasicData\u001b[0m \u001b[0;34m=\u001b[0m \u001b[0mPullTickers\u001b[0m\u001b[0;34m.\u001b[0m\u001b[0mpullAllStockTickers\u001b[0m\u001b[0;34m(\u001b[0m\u001b[0;34m)\u001b[0m\u001b[0;34m\u001b[0m\u001b[0m\n",
      "\u001b[0;31mModuleNotFoundError\u001b[0m: No module named 'PullTickers'"
     ]
    }
   ],
   "source": [
    "import PullTickers\n",
    "AllStockTickerDataSymbolsandBasicData = PullTickers.pullAllStockTickers()"
   ]
  },
  {
   "cell_type": "code",
   "execution_count": 25,
   "metadata": {
    "collapsed": true
   },
   "outputs": [],
   "source": []
  },
  {
   "cell_type": "code",
   "execution_count": 55,
   "metadata": {},
   "outputs": [
    {
     "data": {
      "text/plain": [
       "'1347 Property Insurance Holdings, Inc.'"
      ]
     },
     "execution_count": 55,
     "metadata": {},
     "output_type": "execute_result"
    }
   ],
   "source": [
    "testing[\"Name\"][0]"
   ]
  },
  {
   "cell_type": "code",
   "execution_count": 30,
   "metadata": {},
   "outputs": [
    {
     "data": {
      "text/html": [
       "<div>\n",
       "<style scoped>\n",
       "    .dataframe tbody tr th:only-of-type {\n",
       "        vertical-align: middle;\n",
       "    }\n",
       "\n",
       "    .dataframe tbody tr th {\n",
       "        vertical-align: top;\n",
       "    }\n",
       "\n",
       "    .dataframe thead th {\n",
       "        text-align: right;\n",
       "    }\n",
       "</style>\n",
       "<table border=\"1\" class=\"dataframe\">\n",
       "  <thead>\n",
       "    <tr style=\"text-align: right;\">\n",
       "      <th></th>\n",
       "      <th>Symbol</th>\n",
       "      <th>Name</th>\n",
       "      <th>LastSale</th>\n",
       "      <th>MarketCap</th>\n",
       "      <th>IPOyear</th>\n",
       "      <th>Sector</th>\n",
       "      <th>industry</th>\n",
       "      <th>Summary Quote</th>\n",
       "      <th>Unnamed: 8</th>\n",
       "    </tr>\n",
       "  </thead>\n",
       "  <tbody>\n",
       "    <tr>\n",
       "      <th>0</th>\n",
       "      <td>PIH</td>\n",
       "      <td>1347 Property Insurance Holdings, Inc.</td>\n",
       "      <td>7.6653</td>\n",
       "      <td>$45.88M</td>\n",
       "      <td>2014.0</td>\n",
       "      <td>Finance</td>\n",
       "      <td>Property-Casualty Insurers</td>\n",
       "      <td>https://www.nasdaq.com/symbol/pih</td>\n",
       "      <td>NaN</td>\n",
       "    </tr>\n",
       "  </tbody>\n",
       "</table>\n",
       "</div>"
      ],
      "text/plain": [
       "  Symbol                                    Name  LastSale MarketCap  IPOyear  \\\n",
       "0    PIH  1347 Property Insurance Holdings, Inc.    7.6653   $45.88M   2014.0   \n",
       "\n",
       "    Sector                    industry                      Summary Quote  \\\n",
       "0  Finance  Property-Casualty Insurers  https://www.nasdaq.com/symbol/pih   \n",
       "\n",
       "   Unnamed: 8  \n",
       "0         NaN  "
      ]
     },
     "execution_count": 30,
     "metadata": {},
     "output_type": "execute_result"
    }
   ],
   "source": []
  },
  {
   "cell_type": "code",
   "execution_count": 58,
   "metadata": {},
   "outputs": [
    {
     "data": {
      "text/plain": [
       "'Name'"
      ]
     },
     "execution_count": 58,
     "metadata": {},
     "output_type": "execute_result"
    }
   ],
   "source": [
    "list(testing)[1]"
   ]
  },
  {
   "cell_type": "code",
   "execution_count": 33,
   "metadata": {},
   "outputs": [
    {
     "name": "stdout",
     "output_type": "stream",
     "text": [
      "Symbol\n",
      "Name\n",
      "LastSale\n",
      "MarketCap\n",
      "IPOyear\n",
      "Sector\n",
      "industry\n",
      "Summary Quote\n",
      "Unnamed: 8\n"
     ]
    }
   ],
   "source": [
    "#tests - You should practice buiding tests with Peter \n",
    "import unittest\n",
    "\n",
    "class testThatTickerURLDataCallPullsData(unittest.TestCase):\n",
    "    \n",
    "    def setUp(self):\n",
    "        self.StockDataTest = StockData()\n",
    "\n",
    "    def test_URLS_Return_CSVS(self):\n",
    "        self.assertTrue(self.StockDataTest.pullAllStockTickers(), ,\n",
    "                         'incorrect default size')\n",
    "\n",
    "    def test_widget_resize(self):\n",
    "        self.widget.resize(100,150)\n",
    "        self.assertEqual(self.widget.size(), (100,150),\n",
    "                         'wrong size after resize')\n",
    "    \n",
    " "
   ]
  },
  {
   "cell_type": "code",
   "execution_count": 8,
   "metadata": {
    "collapsed": true
   },
   "outputs": [],
   "source": [
    "class StockData:\n",
    "\n",
    "    def __init__(self):        \n",
    "        self.date = datetime.date.today().strftime('%Y%m%d')\n",
    "\n",
    "    def pullAllStockTickers(self):\n",
    "        def pullAllStockTickers(self):\n",
    "            nasdaqTickersURL = 'https://www.nasdaq.com/screening/companies-by-name.aspx?letter=0&exchange=nyse&render=download'\n",
    "            nyseTickersURL = 'https://www.nasdaq.com/screening/companies-by-name.aspx?letter=0&exchange=nasdaq&render=download'\n",
    "            amexTickersURL = 'https://www.nasdaq.com/screening/companies-by-name.aspx?letter=0&exchange=amex&render=download'\n",
    "\n",
    "            nyseData = pullAllExchangeTickers(nyseTickersURL)\n",
    "            nasdaqData = pullAllExchangeTickers(nasdaqTickersURL)\n",
    "            amexData = pullAllExchangeTickers(amexTickersURL)\n",
    "            \n",
    "            self.AllStockTickers = MergeData(nyseData,nasdaqData,amexData)\n",
    "            return MergeData(nyseData,nasdaqData,amexData)\n",
    "        \n",
    "        def MergeData(nyseData,nasdaqData,amexData):\n",
    "            verticalStack = pd.concat([nyseData, nasdaqData], axis=0)\n",
    "            verticalStack = pd.concat([verticalStack, amexData], axis=0)\n",
    "            verticalStackReindexed = verticalStack.reset_index(drop=True)\n",
    "            return verticalStackReindexed\n",
    "\n",
    "        def pullAllExchangeTickers(URL):\n",
    "            nyseTickersrespose = requests.get(URL).content\n",
    "            nyseTickersData = pd.read_csv(io.StringIO(nyseTickersrespose.decode('utf-8')))\n",
    "            return nyseTickersData\n",
    "        \n",
    "   \n",
    "        pullAllStockTickers(self)\n",
    "              \n",
    "#       def updateStockDatawithWikiPastPickle(self,dateSpecified):       \n",
    "#         def doupdateStockDatawithWikiPastPickle():\n",
    "#             mostRecentWikiData = loadpickle(dateSpecified)\n",
    "#             StockDataupdatedWithWikiData = joinBasedOnSymbol(mostRecentData)\n",
    "#             self.data = StockDataupdatedWithWikiData\n",
    "#             return StockDataupdatedWithWikiData\n",
    "\n",
    "#         def loadpickle(dateSpecified):\n",
    "\n",
    "#         def joinBasedOnSymbol(mostRecentData):\n",
    "#             self.data \n",
    "\n",
    "#         doupdateStockDatawithWikiPastPickle()\n",
    "            \n",
    "    def scrapeAndSaveWikiDataForEachTicker(self):        \n",
    "        def runscrapeAndSaveWikiDataForEachTicker(self):\n",
    "            for eachTicker in self.AllStockTickers[\"Symbol\"][0:10]:\n",
    "                print(eachTicker)\n",
    "                try:\n",
    "                    CompanySpecificPandasDataFrame = self.AllStockTickers.loc[self.AllStockTickers[\"Symbol\"] == eachTicker]\n",
    "                    specificCompanyProfile =  CompanyProfile(CompanySpecificPandasDataFrame)\n",
    "                    specificCompanyProfile.updateWikiData()\n",
    "                    print(specificCompanyProfile.data)\n",
    "                except:\n",
    "                    pass\n",
    "\n",
    "                \n",
    "                convertCompanyDataToDataFrame(specificCompanyProfile)\n",
    "#                 saveStocktoPickle(CompanyProfile)\n",
    "\n",
    "                \n",
    "            #when all stocks have run then run update data withpickle \n",
    "\n",
    "        def convertCompanyDataToDataFrame(specificCompanyProfile):\n",
    "            \n",
    "            specificCompanyProfile.data\n",
    "\n",
    "        def appendData(specificCompanyProfile):\n",
    "            \n",
    "            specificCompanyProfile.data\n",
    "    \n",
    "        def SaveData(): \n",
    "            IPODatesPickleLatest = loadIPOPickleData()\n",
    "            print(IPODatesPickleLatest.keys())\n",
    "\n",
    "            for eachTicker in data.Symbol[0:10]:\n",
    "                if eachTicker not in IPODatesPickleLatest.keys():\n",
    "                    #add in if statement to look up to see if there is already data available in data\n",
    "                    yearLookUpandRecord(eachTicker)\n",
    "                    time.sleep(60)\n",
    "                else:\n",
    "                    pass\n",
    "\n",
    "        runscrapeAndSaveWikiDataForEachTicker(self)\n",
    "     \n"
   ]
  },
  {
   "cell_type": "code",
   "execution_count": 9,
   "metadata": {
    "collapsed": true
   },
   "outputs": [],
   "source": [
    "NewStockPortfolioInstance = StockData()\n",
    "NewStockPortfolioInstance.pullAllStockTickers()\n",
    "AllStockTickerDataSymbolsandBasicData = NewStockPortfolioInstance.AllStockTickers"
   ]
  },
  {
   "cell_type": "code",
   "execution_count": 61,
   "metadata": {},
   "outputs": [
    {
     "name": "stdout",
     "output_type": "stream",
     "text": [
      "PIH\n",
      "1347 Property Insurance Holdings, Inc.\n",
      "Mumbai\n",
      "Mumbai\n"
     ]
    },
    {
     "name": "stderr",
     "output_type": "stream",
     "text": [
      "/Library/Frameworks/Python.framework/Versions/3.6/lib/python3.6/site-packages/bs4/__init__.py:181: UserWarning: No parser was explicitly specified, so I'm using the best available HTML parser for this system (\"lxml\"). This usually isn't a problem, but if you run this code on another system, or in a different virtual environment, it may use a different parser and behave differently.\n",
      "\n",
      "The code that caused this warning is on line 193 of the file /Library/Frameworks/Python.framework/Versions/3.6/lib/python3.6/runpy.py. To get rid of this warning, change code that looks like this:\n",
      "\n",
      " BeautifulSoup(YOUR_MARKUP})\n",
      "\n",
      "to this:\n",
      "\n",
      " BeautifulSoup(YOUR_MARKUP, \"lxml\")\n",
      "\n",
      "  markup_type=markup_type))\n"
     ]
    },
    {
     "name": "stdout",
     "output_type": "stream",
     "text": [
      "Corporation\n",
      "Corporation\n",
      "PIHPP\n",
      "1347 Property Insurance Holdings, Inc.\n",
      "Mumbai\n",
      "Mumbai\n",
      "Corporation\n",
      "Corporation\n",
      "TURN\n",
      "180 Degree Capital Corp.\n",
      "Harris & Harris Group\n",
      "Harris & Harris Group\n",
      "{'Type': 'Public', 'Traded\\xa0as': 'NASDAQ:\\xa0TURN', 'Industry': 'Investment Management', 'Founded': '1981', 'Headquarters': 'Montclair, NJ, United States', 'Products': 'Asset Management', 'Website': 'www.180degreecapital.com'}\n",
      "{'index': 2, 'Symbol': 'TURN', 'Name': '180 Degree Capital Corp.', 'LastSale': 2.201, 'MarketCap': '$68.5M', 'IPOyear': nan, 'Sector': 'Finance', 'industry': 'Finance/Investors Services', 'Summary Quote': 'https://www.nasdaq.com/symbol/turn', 'Unnamed: 8': nan}\n",
      "FLWS\n",
      "1-800 FLOWERS.COM, Inc.\n",
      "1-800-Flowers\n",
      "1-800-Flowers\n",
      "{'Type': 'Public', 'Traded\\xa0as': 'NASDAQ:\\xa0FLWS', 'Industry': 'Retail', 'Founded': '1982', 'Founder': 'James McCann', 'Headquarters': 'Carle Place, New York, United States', 'Key people': 'James McCann (Chairman) Chris McCann (CEO)', 'Products': 'Flowers, gift baskets, plants, gourmet food, collectibles', 'Subsidiaries': 'Harry & David', 'Website': 'www.1800flowers.com'}\n",
      "{'index': 3, 'Symbol': 'FLWS', 'Name': '1-800 FLOWERS.COM, Inc.', 'LastSale': 12.9, 'MarketCap': '$833.39M', 'IPOyear': 1999.0, 'Sector': 'Consumer Services', 'industry': 'Other Specialty Stores', 'Summary Quote': 'https://www.nasdaq.com/symbol/flws', 'Unnamed: 8': nan}\n",
      "FCCY\n",
      "1st Constitution Bancorp (NJ)\n",
      "1st Constitution Bancorp\n",
      "1st Constitution Bancorp\n",
      "{'Type': 'Public company', 'Traded\\xa0as': 'NASDAQ:\\xa0FCCY', 'Industry': 'Banking', 'Founded': '1989; 29\\xa0years ago\\xa0(1989)', 'Headquarters': 'Cranbury, New Jersey', 'Key people': ' Edward J. Carpenter, ChairmanRobert F. Mangano, CEO & PresidentStephen J. Gilhooly, CFO', 'Total assets': ' $1.079 billion (2017)', 'Total equity': ' $0.111 billion (2017)', 'Number of employees': '183 (2017)', 'Website': 'www.1stconstitution.com'}\n",
      "{'index': 4, 'Symbol': 'FCCY', 'Name': '1st Constitution Bancorp (NJ)', 'LastSale': 21.6, 'MarketCap': '$180.65M', 'IPOyear': nan, 'Sector': 'Finance', 'industry': 'Savings Institutions', 'Summary Quote': 'https://www.nasdaq.com/symbol/fccy', 'Unnamed: 8': nan}\n",
      "SRCE\n",
      "1st Source Corporation\n",
      "1st Source\n",
      "1st Source\n",
      "{'Type': 'Public company', 'Traded\\xa0as': 'NASDAQ:\\xa0SRCE', 'Industry': 'Banking', 'Founded': '1863; 155\\xa0years ago\\xa0(1863)', 'Headquarters': 'South Bend, Indiana', 'Key people': ' Christopher J. Murphy III, Chairman & CEOJames R. Seitz, PresidentAndrea G. Short, CFO', 'Total assets': ' $5.638 billion (2017)', 'Total equity': ' $0.702 billion (2017)', 'Number of employees': '1,150 (2017)', 'Website': 'www.1stsource.com'}\n",
      "{'index': 5, 'Symbol': 'SRCE', 'Name': '1st Source Corporation', 'LastSale': 54.47, 'MarketCap': '$1.41B', 'IPOyear': nan, 'Sector': 'Finance', 'industry': 'Major Banks', 'Summary Quote': 'https://www.nasdaq.com/symbol/srce', 'Unnamed: 8': nan}\n",
      "VNET\n",
      "21Vianet Group, Inc.\n",
      "Office 365\n",
      "Office 365\n",
      "Mobile country code\n",
      "Mobile country code\n",
      "TWOU\n",
      "2U, Inc.\n",
      "2U (company)\n",
      "2U (company)\n",
      "{'Formerly called': '2tor, Inc.', 'Type': 'Public', 'Traded\\xa0as': 'NASDAQ:\\xa0TWOU', 'Founded': '2008; 10\\xa0years ago\\xa0(2008)', 'Headquarters': 'Lanham, Maryland, U.S.', 'Area served': 'Global', 'Key people': 'Paul A. Maeder(Chairman of the Board)Christopher J. Paucek(CEO)Catherine A. Graham(CFO)', 'Services': 'Educational technology', 'Revenue': ' US$ 286.75 million (2017)', 'Operating income': ' US$ -30.14 million (2017)', 'Net income': ' US$ -29.42 million (2017)', 'Total assets': ' US$ 482.06 million (2017)', 'Total equity': ' US$ 387.83 million (2017)', 'Number of employees': '1,922 (2017)', 'Website': '2U.com'}\n",
      "{'index': 7, 'Symbol': 'TWOU', 'Name': '2U, Inc.', 'LastSale': 95.03, 'MarketCap': '$5.39B', 'IPOyear': 2014.0, 'Sector': 'Technology', 'industry': 'Computer Software: Prepackaged Software', 'Summary Quote': 'https://www.nasdaq.com/symbol/twou', 'Unnamed: 8': nan}\n",
      "JOBS\n",
      "51job, Inc.\n",
      "Codewars\n",
      "Codewars\n",
      "List of Encyclopædia Britannica Films titles\n",
      "List of Encyclopædia Britannica Films titles\n",
      "CAFD\n",
      "8point3 Energy Partners LP\n",
      "List of Little People, Big World episodes\n",
      "List of Little People, Big World episodes\n"
     ]
    }
   ],
   "source": [
    "NewStockPortfolioInstance.scrapeAndSaveWikiDataForEachTicker()"
   ]
  },
  {
   "cell_type": "code",
   "execution_count": null,
   "metadata": {
    "collapsed": true
   },
   "outputs": [],
   "source": []
  },
  {
   "cell_type": "code",
   "execution_count": 48,
   "metadata": {},
   "outputs": [
    {
     "name": "stdout",
     "output_type": "stream",
     "text": [
      "0         PIH\n",
      "1       PIHPP\n",
      "2        TURN\n",
      "3        FLWS\n",
      "4        FCCY\n",
      "5        SRCE\n",
      "6        VNET\n",
      "7        TWOU\n",
      "8        JOBS\n",
      "9        CAFD\n",
      "10       EGHT\n",
      "11       AVHI\n",
      "12       SHLM\n",
      "13       AAON\n",
      "14       ABAX\n",
      "15       ABEO\n",
      "16      ABEOW\n",
      "17       ABIL\n",
      "18       ABMD\n",
      "19       ABLX\n",
      "20        ABP\n",
      "21       AXAS\n",
      "22       ACIU\n",
      "23       ACIA\n",
      "24       ACTG\n",
      "25       ACHC\n",
      "26       ACAD\n",
      "27       ACST\n",
      "28       AXDX\n",
      "29       XLRN\n",
      "        ...  \n",
      "6780    GLU^A\n",
      "6781      GGO\n",
      "6782    GGO^A\n",
      "6783      TMP\n",
      "6784      TAT\n",
      "6785     TRXC\n",
      "6786      TMQ\n",
      "6787     TPHS\n",
      "6788      TRT\n",
      "6789     UFAB\n",
      "6790     UAMY\n",
      "6791      UUU\n",
      "6792      UQM\n",
      "6793      URG\n",
      "6794      UEC\n",
      "6795      VII\n",
      "6796      VHC\n",
      "6797      VGZ\n",
      "6798     VNRX\n",
      "6799     VISI\n",
      "6800      EAD\n",
      "6801      ERC\n",
      "6802      ERH\n",
      "6803      WRN\n",
      "6804      WYY\n",
      "6805      WTT\n",
      "6806     XTNT\n",
      "6807     YUMA\n",
      "6808     ZDGE\n",
      "6809      ZOM\n",
      "Name: Symbol, Length: 6810, dtype: object\n"
     ]
    }
   ],
   "source": [
    "print(AllStockTickerDataSymbolsandBasicData['Symbol'])"
   ]
  },
  {
   "cell_type": "code",
   "execution_count": 422,
   "metadata": {},
   "outputs": [
    {
     "name": "stdout",
     "output_type": "stream",
     "text": [
      "Tesla, Inc.\n",
      "Tesla, Inc.\n"
     ]
    },
    {
     "name": "stderr",
     "output_type": "stream",
     "text": [
      "/Library/Frameworks/Python.framework/Versions/3.6/lib/python3.6/site-packages/bs4/__init__.py:181: UserWarning: No parser was explicitly specified, so I'm using the best available HTML parser for this system (\"lxml\"). This usually isn't a problem, but if you run this code on another system, or in a different virtual environment, it may use a different parser and behave differently.\n",
      "\n",
      "The code that caused this warning is on line 193 of the file /Library/Frameworks/Python.framework/Versions/3.6/lib/python3.6/runpy.py. To get rid of this warning, change code that looks like this:\n",
      "\n",
      " BeautifulSoup(YOUR_MARKUP})\n",
      "\n",
      "to this:\n",
      "\n",
      " BeautifulSoup(YOUR_MARKUP, \"lxml\")\n",
      "\n",
      "  markup_type=markup_type))\n"
     ]
    },
    {
     "name": "stdout",
     "output_type": "stream",
     "text": [
      "{'Type': 'Public', 'Traded\\xa0as': 'NASDAQ:\\xa0TSLANASDAQ-100 Component', 'ISIN': 'US88160R1014', 'Industry': 'AutomotiveEnergy storage', 'Founded': 'July\\xa01, 2003; 14 years ago\\xa0(2003-07-01), in Delaware, U.S.', 'Founders': 'Martin EberhardMarc TarpenningIan Wright[i]Elon Musk[i]JB Straubel[i]', 'Headquarters': 'Palo Alto, California, U.S.', 'Area served': 'Worldwide', 'Key people': 'Elon Musk(Chairman & CEO)Jeffrey Brian Straubel(CTO)Deepak Ahuja(CFO)', 'Products': 'Electric VehiclesTesla Energy', 'Revenue': ' US$ 11.76 billion (2017)', 'Operating income': ' US$ -1.63 billion (2017)', 'Net income': ' US$ -2.24 billion (2017)', 'Total assets': ' US$ 28.66 billion (2017)', 'Total equity': ' US$ 4.24 billion (2017)', 'Number of employees': '37,543 (2017)', 'Subsidiaries': 'SolarCityTesla Grohmann Automation', 'Website': 'Tesla.com'}\n"
     ]
    }
   ],
   "source": [
    "wikiData = TSLA.updateWikiData()"
   ]
  },
  {
   "cell_type": "code",
   "execution_count": 423,
   "metadata": {},
   "outputs": [
    {
     "data": {
      "text/plain": [
       "{'Area served': 'Worldwide',\n",
       " 'Founded': 'July\\xa01, 2003; 14 years ago\\xa0(2003-07-01), in Delaware, U.S.',\n",
       " 'Founders': 'Martin EberhardMarc TarpenningIan Wright[i]Elon Musk[i]JB Straubel[i]',\n",
       " 'Headquarters': 'Palo Alto, California, U.S.',\n",
       " 'IPOyear': 2010.0,\n",
       " 'ISIN': 'US88160R1014',\n",
       " 'Industry': 'AutomotiveEnergy storage',\n",
       " 'Key people': 'Elon Musk(Chairman & CEO)Jeffrey Brian Straubel(CTO)Deepak Ahuja(CFO)',\n",
       " 'LastSale': 291.7284,\n",
       " 'MarketCap': '$49.53B',\n",
       " 'Name': 'Tesla, Inc. ',\n",
       " 'Net income': ' US$ -2.24 billion (2017)',\n",
       " 'Number of employees': '37,543 (2017)',\n",
       " 'Operating income': ' US$ -1.63 billion (2017)',\n",
       " 'Products': 'Electric VehiclesTesla Energy',\n",
       " 'Revenue': ' US$ 11.76 billion (2017)',\n",
       " 'Sector': 'Capital Goods',\n",
       " 'Subsidiaries': 'SolarCityTesla Grohmann Automation',\n",
       " 'Summary Quote': 'https://www.nasdaq.com/symbol/tsla',\n",
       " 'Symbol': 'TSLA',\n",
       " 'Total assets': ' US$ 28.66 billion (2017)',\n",
       " 'Total equity': ' US$ 4.24 billion (2017)',\n",
       " 'Traded\\xa0as': 'NASDAQ:\\xa0TSLANASDAQ-100 Component',\n",
       " 'Type': 'Public',\n",
       " 'Unnamed: 8': nan,\n",
       " 'Website': 'Tesla.com',\n",
       " 'index': 2920,\n",
       " 'industry': 'Auto Manufacturing'}"
      ]
     },
     "execution_count": 423,
     "metadata": {},
     "output_type": "execute_result"
    }
   ],
   "source": [
    "TSLA.data"
   ]
  },
  {
   "cell_type": "code",
   "execution_count": 125,
   "metadata": {
    "collapsed": true
   },
   "outputs": [],
   "source": [
    "for each in allRows:\n",
    "    i+=1\n",
    "    print(i)\n",
    "    \n",
    "    stringFounded = each.contents[0].string\n",
    "    \n",
    "#     print(each)\n",
    "    print(stringFounded)\n",
    "    if stringFounded == \"Founded\":\n",
    "        print(\"found it!\")\n",
    "        #pprint(each)\n",
    "        rowLabel = each.th\n",
    "        print(rowLabel.text)\n",
    "        rowContents = each.td\n",
    "        print(rowContents.text)\n",
    "        stringTesting = each.b\n",
    "        print(stringTesting) "
   ]
  },
  {
   "cell_type": "code",
   "execution_count": 131,
   "metadata": {
    "collapsed": true
   },
   "outputs": [],
   "source": [
    "TSLAPage = wikipedia.page(searchResults[0])"
   ]
  },
  {
   "cell_type": "code",
   "execution_count": 134,
   "metadata": {},
   "outputs": [
    {
     "data": {
      "text/plain": [
       "<bound method WikipediaPage.html of <WikipediaPage 'Tesla, Inc.'>>"
      ]
     },
     "execution_count": 134,
     "metadata": {},
     "output_type": "execute_result"
    }
   ],
   "source": [
    "BeautifulSoup = TSLAPage.html()"
   ]
  },
  {
   "cell_type": "code",
   "execution_count": 104,
   "metadata": {},
   "outputs": [
    {
     "data": {
      "text/plain": [
       "[{'IPOyear': 2010.0,\n",
       "  'LastSale': 291.7284,\n",
       "  'MarketCap': '$49.53B',\n",
       "  'Name': 'Tesla, Inc. ',\n",
       "  'Sector': 'Capital Goods',\n",
       "  'Summary Quote': 'https://www.nasdaq.com/symbol/tsla',\n",
       "  'Symbol': 'TSLA',\n",
       "  'Unnamed: 8': nan,\n",
       "  'index': 2920,\n",
       "  'industry': 'Auto Manufacturing'}]"
      ]
     },
     "execution_count": 104,
     "metadata": {},
     "output_type": "execute_result"
    }
   ],
   "source": [
    "TslaCompanyDict"
   ]
  },
  {
   "cell_type": "raw",
   "metadata": {},
   "source": [
    "list(TslaCompanyDict['Name'].keys())[0]"
   ]
  },
  {
   "cell_type": "code",
   "execution_count": 135,
   "metadata": {
    "collapsed": true
   },
   "outputs": [],
   "source": [
    "import bs4\n",
    "from bs4 import BeautifulSoup"
   ]
  },
  {
   "cell_type": "code",
   "execution_count": null,
   "metadata": {
    "collapsed": true
   },
   "outputs": [],
   "source": []
  }
 ],
 "metadata": {
  "kernelspec": {
   "display_name": "Python 3",
   "language": "python",
   "name": "python3"
  },
  "language_info": {
   "codemirror_mode": {
    "name": "ipython",
    "version": 3
   },
   "file_extension": ".py",
   "mimetype": "text/x-python",
   "name": "python",
   "nbconvert_exporter": "python",
   "pygments_lexer": "ipython3",
   "version": "3.6.4"
  }
 },
 "nbformat": 4,
 "nbformat_minor": 2
}
