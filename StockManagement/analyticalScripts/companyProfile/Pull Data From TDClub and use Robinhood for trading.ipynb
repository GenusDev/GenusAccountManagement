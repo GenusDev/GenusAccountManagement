{
 "cells": [
  {
   "cell_type": "code",
   "execution_count": 1,
   "metadata": {},
   "outputs": [
    {
     "name": "stdout",
     "output_type": "stream",
     "text": [
      "20180828Endogen\n",
      "{'$Coinbase': {'APIKey': 'PUexW1y1dA7Pv0nl',\n",
      "               'APISecret': 'vySd8xhGF0zMQfrcsF47pTDTjxqW1uAe',\n",
      "               'OneTimeKey': 'm2gtgyoulaziswo7',\n",
      "               'Pass': '2Manhattans#',\n",
      "               'Update': 'inputInfo',\n",
      "               'Usr': 'matsteele',\n",
      "               'cash': 2300},\n",
      " '$Robinhood': {'cash': '111.1000',\n",
      "                'invested': 3081.875,\n",
      "                'positions': {'AAPL': '2.0000',\n",
      "                              'ALK': '15.0000',\n",
      "                              'FB': '4.0000',\n",
      "                              'GE': '73.0000'}},\n",
      " '$TDClub': {'bonds': '$5,040.50',\n",
      "             'cash': '$12,507.96',\n",
      "             'invested': '$65,981.36',\n",
      "             'positions': {'3137EACA5': '5.00',\n",
      "                           'ALK': '68.00',\n",
      "                           'AMZN': '1.00',\n",
      "                           'BK': '69.00',\n",
      "                           'BLK': '7.00',\n",
      "                           'CIG': '524.00',\n",
      "                           'CMG': '14.00',\n",
      "                           'COST': '7.00',\n",
      "                           'CRSP': '80.00',\n",
      "                           'DS': '33.00',\n",
      "                           'ECA': '350.00',\n",
      "                           'GOOGL': '3.00',\n",
      "                           'GS': '30.00',\n",
      "                           'GSH': '125.00',\n",
      "                           'HQCL': '9.00',\n",
      "                           'IBM': '30.00',\n",
      "                           'INO': '324.00',\n",
      "                           'MJ': '130.00',\n",
      "                           'NEWM': '14.00',\n",
      "                           'OHI': '20.00',\n",
      "                           'PAGS': '160.00',\n",
      "                           'PNR': '75.00',\n",
      "                           'SCS': '50.00',\n",
      "                           'SNR': '33.00',\n",
      "                           'TWTR': '20.00'}},\n",
      " '$TDJohnIRA': {'Owner': 'Endogen',\n",
      "                'Pass': '2Manhattans#',\n",
      "                'Update': 'inputInfo',\n",
      "                'Usr': '70901103',\n",
      "                'cash': 5500},\n",
      " '$TDMattIRA': {'cash': '$4,559.29',\n",
      "                'invested': '$15,918.92',\n",
      "                'positions': {'AGRX': '300.00',\n",
      "                              'FB': '6.00',\n",
      "                              'GOOG': '5.00',\n",
      "                              'HIMX': '278.00',\n",
      "                              'URBN': '150.00'}}}\n",
      "dict_keys(['invested', 'cash', 'bonds', 'positions'])\n",
      "dict_keys(['invested', 'cash', 'positions'])\n",
      "dict_keys(['Owner', 'Update', 'cash', 'Usr', 'Pass'])\n",
      "dict_keys(['cash', 'invested', 'positions'])\n",
      "dict_keys(['Pass', 'Update', 'APIKey', 'APISecret', 'cash', 'Usr', 'OneTimeKey'])\n"
     ]
    }
   ],
   "source": [
    "import sys\n",
    "sys.path.append('../../../../GenusAccountManagement/programFiles')\n",
    "import loadAccountDataFiles\n",
    "\n",
    "\n",
    "def EndogenAccountDataPull():\n",
    "    accountData = loadAccountDataFiles.OldAccountDataRequest(\"20180828Endogen\")\n",
    "\n",
    "    def formatData(accountData):\n",
    "        positionDataOrganized = {}\n",
    "        for eachAccount in accountData:\n",
    "            print(accountData[eachAccount].keys())\n",
    "            if \"positions\" in accountData[eachAccount].keys():\n",
    "                positions = accountData[eachAccount]['positions']\n",
    "                positionDataOrganized.update(positions)\n",
    "        return positionDataOrganized\n",
    "\n",
    "\n",
    "    positionData = formatData(accountData)\n",
    "    return positionData\n",
    "\n",
    "\n",
    "data = EndogenAccountDataPull()\n"
   ]
  },
  {
   "cell_type": "code",
   "execution_count": null,
   "metadata": {},
   "outputs": [],
   "source": []
  },
  {
   "cell_type": "code",
   "execution_count": 2,
   "metadata": {},
   "outputs": [
    {
     "ename": "NameError",
     "evalue": "name 'accountData' is not defined",
     "output_type": "error",
     "traceback": [
      "\u001b[0;31m---------------------------------------------------------------------------\u001b[0m",
      "\u001b[0;31mNameError\u001b[0m                                 Traceback (most recent call last)",
      "\u001b[0;32m<ipython-input-2-7ccb139f212d>\u001b[0m in \u001b[0;36m<module>\u001b[0;34m()\u001b[0m\n\u001b[0;32m----> 1\u001b[0;31m \u001b[0mprint\u001b[0m\u001b[0;34m(\u001b[0m\u001b[0mtype\u001b[0m\u001b[0;34m(\u001b[0m\u001b[0maccountData\u001b[0m\u001b[0;34m)\u001b[0m\u001b[0;34m)\u001b[0m\u001b[0;34m\u001b[0m\u001b[0m\n\u001b[0m\u001b[1;32m      2\u001b[0m \u001b[0;32mdef\u001b[0m \u001b[0mformatData\u001b[0m\u001b[0;34m(\u001b[0m\u001b[0maccountData\u001b[0m\u001b[0;34m)\u001b[0m\u001b[0;34m:\u001b[0m\u001b[0;34m\u001b[0m\u001b[0m\n\u001b[1;32m      3\u001b[0m     \u001b[0mpositionDataOrganized\u001b[0m \u001b[0;34m=\u001b[0m \u001b[0;34m{\u001b[0m\u001b[0;34m}\u001b[0m\u001b[0;34m\u001b[0m\u001b[0m\n\u001b[1;32m      4\u001b[0m     \u001b[0;32mfor\u001b[0m \u001b[0meachAccount\u001b[0m \u001b[0;32min\u001b[0m \u001b[0maccountData\u001b[0m\u001b[0;34m:\u001b[0m\u001b[0;34m\u001b[0m\u001b[0m\n\u001b[1;32m      5\u001b[0m         \u001b[0mprint\u001b[0m\u001b[0;34m(\u001b[0m\u001b[0maccountData\u001b[0m\u001b[0;34m[\u001b[0m\u001b[0meachAccount\u001b[0m\u001b[0;34m]\u001b[0m\u001b[0;34m.\u001b[0m\u001b[0mkeys\u001b[0m\u001b[0;34m(\u001b[0m\u001b[0;34m)\u001b[0m\u001b[0;34m)\u001b[0m\u001b[0;34m\u001b[0m\u001b[0m\n",
      "\u001b[0;31mNameError\u001b[0m: name 'accountData' is not defined"
     ]
    }
   ],
   "source": [
    "print(type(accountData))\n",
    "def formatData(accountData):\n",
    "    positionDataOrganized = {}\n",
    "    for eachAccount in accountData:\n",
    "        print(accountData[eachAccount].keys())\n",
    "        if \"positions\" in accountData[eachAccount].keys():\n",
    "            positions = accountData[eachAccount]['positions']\n",
    "            positionDataOrganized.update(positions)\n",
    "    return positionDataOrganized\n",
    "                \n",
    "\n",
    "positionData = formatData(accountData)"
   ]
  },
  {
   "cell_type": "code",
   "execution_count": null,
   "metadata": {},
   "outputs": [],
   "source": [
    "positionData"
   ]
  },
  {
   "cell_type": "code",
   "execution_count": null,
   "metadata": {
    "collapsed": true
   },
   "outputs": [],
   "source": []
  },
  {
   "cell_type": "code",
   "execution_count": null,
   "metadata": {
    "collapsed": true
   },
   "outputs": [],
   "source": [
    "import datetime as dt\n",
    "import matplotlib.pyplot as plt\n",
    "from matplotlib import style\n",
    "import numpy as np\n",
    "import pandas as pd\n",
    "import pandas_datareader.data as web\n",
    "\n",
    "\n",
    "style.use('ggplot')\n",
    "\n",
    "start = dt.datetime(2000, 1, 1)\n",
    "end = dt.datetime(2016, 12, 31)\n",
    "\n",
    "\n",
    "df = web.DataReader('TSLA', \"yahoo\", start, end)\n"
   ]
  }
 ],
 "metadata": {
  "kernelspec": {
   "display_name": "Python 3",
   "language": "python",
   "name": "python3"
  },
  "language_info": {
   "codemirror_mode": {
    "name": "ipython",
    "version": 3
   },
   "file_extension": ".py",
   "mimetype": "text/x-python",
   "name": "python",
   "nbconvert_exporter": "python",
   "pygments_lexer": "ipython3",
   "version": "3.6.3"
  }
 },
 "nbformat": 4,
 "nbformat_minor": 2
}
