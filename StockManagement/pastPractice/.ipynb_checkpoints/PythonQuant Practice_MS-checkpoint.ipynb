{
 "cells": [
  {
   "cell_type": "markdown",
   "metadata": {},
   "source": [
    "# Python Quatitative Practice\n",
    "\n",
    "Dependencies\n",
    "```bash\n",
    "pip3 install Numpy as np\n",
    "import pandas as pd\n",
    "```\n",
    "\n",
    "### Goal:\n",
    "*To develop alogorythms to automate trades for Genus Holding Co"
   ]
  },
  {
   "cell_type": "markdown",
   "metadata": {},
   "source": [
    "## Useful libraries for statistics \n",
    "- NumPy (arrays)\n",
    "- matplotlib (dataVis)\n",
    "- SciPy (algorithms)\n",
    "- HDF5 (store and manipulate data)\n",
    "- pandas (data analysis)"
   ]
  },
  {
   "cell_type": "markdown",
   "metadata": {},
   "source": [
    "# Imports"
   ]
  },
  {
   "cell_type": "code",
   "execution_count": 2,
   "metadata": {
    "collapsed": true,
    "scrolled": true
   },
   "outputs": [],
   "source": [
    "import csv\n",
    "import pandas as pd\n",
    "import pandas_datareader.data as web\n",
    "import numpy as np\n",
    "import datetime as dt\n",
    "import matplotlib.pyplot as plt\n",
    "from matplotlib import style\n",
    "import quandl\n",
    "import joblib\n",
    "import pickle\n",
    "\n",
    "style.use(\"ggplot\")\n",
    "\n",
    "#set Quandl API Key:\n",
    "quandl.ApiConfig.api_key = \"zn_WwkZ-9a8vWzV_oX73\""
   ]
  },
  {
   "cell_type": "markdown",
   "metadata": {},
   "source": [
    "### Interested Tickers\n",
    "Interested Tickers are inputted in this <a href=\"https://docs.google.com/spreadsheets/d/1Qjl_H4Mf7ChN0UqricRmArzdjIiXQ6fnTIq_OZqKrbU/edit#gid=790266674\"> spreadsheet  </a>\n",
    "\n",
    "and loaded via the following script"
   ]
  },
  {
   "cell_type": "code",
   "execution_count": 3,
   "metadata": {
    "collapsed": true
   },
   "outputs": [],
   "source": [
    "url = 'https://docs.google.com/spreadsheets/d/e/2PACX-1vTOMs_SartfIKGTlhgZMYyssWPGlyP2Acf3IHxOuL6zyKN3nN2ZPnfPCZYn93NQfrCAIIMWHl08qCh2/pub?gid=790266674&single=true&output=csv'\n",
    "sData = pd.read_csv(url,header=0)"
   ]
  },
  {
   "cell_type": "code",
   "execution_count": 4,
   "metadata": {},
   "outputs": [
    {
     "data": {
      "text/html": [
       "<div>\n",
       "<style>\n",
       "    .dataframe thead tr:only-child th {\n",
       "        text-align: right;\n",
       "    }\n",
       "\n",
       "    .dataframe thead th {\n",
       "        text-align: left;\n",
       "    }\n",
       "\n",
       "    .dataframe tbody tr th {\n",
       "        vertical-align: top;\n",
       "    }\n",
       "</style>\n",
       "<table border=\"1\" class=\"dataframe\">\n",
       "  <thead>\n",
       "    <tr style=\"text-align: right;\">\n",
       "      <th></th>\n",
       "      <th>Account</th>\n",
       "      <th>Company</th>\n",
       "      <th>Ticker</th>\n",
       "      <th>Lead</th>\n",
       "      <th>price</th>\n",
       "      <th>Portfolio%</th>\n",
       "      <th>Buy Price</th>\n",
       "      <th>Sell Price</th>\n",
       "      <th>Market Cap</th>\n",
       "      <th>52WkDiff</th>\n",
       "      <th>52weekhigh</th>\n",
       "      <th>52weeklow</th>\n",
       "      <th>PE</th>\n",
       "      <th>Beta</th>\n",
       "      <th>ExpdDivExDate</th>\n",
       "    </tr>\n",
       "  </thead>\n",
       "  <tbody>\n",
       "    <tr>\n",
       "      <th>0</th>\n",
       "      <td>Club</td>\n",
       "      <td>AMAZON COM INC</td>\n",
       "      <td>AMZN</td>\n",
       "      <td>10.0</td>\n",
       "      <td>1,175.84</td>\n",
       "      <td>0.00%</td>\n",
       "      <td>NaN</td>\n",
       "      <td>NaN</td>\n",
       "      <td>5.666000e+11</td>\n",
       "      <td>57.26%</td>\n",
       "      <td>NaN</td>\n",
       "      <td>747.70</td>\n",
       "      <td>296.79</td>\n",
       "      <td>1.46</td>\n",
       "      <td>NaN</td>\n",
       "    </tr>\n",
       "    <tr>\n",
       "      <th>1</th>\n",
       "      <td>Club</td>\n",
       "      <td>CEMIG-COMPANHIA ENER (BRAZIL)</td>\n",
       "      <td>CIG</td>\n",
       "      <td>6.0</td>\n",
       "      <td>2.01</td>\n",
       "      <td>0.00%</td>\n",
       "      <td>NaN</td>\n",
       "      <td>NaN</td>\n",
       "      <td>2.909600e+09</td>\n",
       "      <td>-47.66%</td>\n",
       "      <td>3.84</td>\n",
       "      <td>1.89</td>\n",
       "      <td>95.89</td>\n",
       "      <td>1.94</td>\n",
       "      <td>NaN</td>\n",
       "    </tr>\n",
       "    <tr>\n",
       "      <th>2</th>\n",
       "      <td>Club</td>\n",
       "      <td>COSTCO WHOLESALE CORP</td>\n",
       "      <td>COST</td>\n",
       "      <td>9.0</td>\n",
       "      <td>186.54</td>\n",
       "      <td>0.00%</td>\n",
       "      <td>NaN</td>\n",
       "      <td>NaN</td>\n",
       "      <td>8.192700e+10</td>\n",
       "      <td>-4.51%</td>\n",
       "      <td>195.35</td>\n",
       "      <td>150.00</td>\n",
       "      <td>29.66</td>\n",
       "      <td>0.98</td>\n",
       "      <td>NaN</td>\n",
       "    </tr>\n",
       "    <tr>\n",
       "      <th>3</th>\n",
       "      <td>Club</td>\n",
       "      <td>ENCANA CORP ORD (CANADA)</td>\n",
       "      <td>ECA</td>\n",
       "      <td>8.0</td>\n",
       "      <td>13.07</td>\n",
       "      <td>0.00%</td>\n",
       "      <td>NaN</td>\n",
       "      <td>NaN</td>\n",
       "      <td>1.272100e+10</td>\n",
       "      <td>-5.63%</td>\n",
       "      <td>13.85</td>\n",
       "      <td>8.01</td>\n",
       "      <td>16.42</td>\n",
       "      <td>2.16</td>\n",
       "      <td>NaN</td>\n",
       "    </tr>\n",
       "    <tr>\n",
       "      <th>4</th>\n",
       "      <td>Club</td>\n",
       "      <td>ALPHABET INC CL A</td>\n",
       "      <td>GOOGL</td>\n",
       "      <td>10.0</td>\n",
       "      <td>1,063.15</td>\n",
       "      <td>0.00%</td>\n",
       "      <td>NaN</td>\n",
       "      <td>NaN</td>\n",
       "      <td>7.356400e+11</td>\n",
       "      <td>-2.15%</td>\n",
       "      <td>1086.49</td>\n",
       "      <td>789.62</td>\n",
       "      <td>35.42</td>\n",
       "      <td>0.90</td>\n",
       "      <td>NaN</td>\n",
       "    </tr>\n",
       "  </tbody>\n",
       "</table>\n",
       "</div>"
      ],
      "text/plain": [
       "  Account                        Company Ticker  Lead     price Portfolio%  \\\n",
       "0    Club                 AMAZON COM INC   AMZN  10.0  1,175.84      0.00%   \n",
       "1    Club  CEMIG-COMPANHIA ENER (BRAZIL)    CIG   6.0      2.01      0.00%   \n",
       "2    Club          COSTCO WHOLESALE CORP   COST   9.0    186.54      0.00%   \n",
       "3    Club       ENCANA CORP ORD (CANADA)    ECA   8.0     13.07      0.00%   \n",
       "4    Club              ALPHABET INC CL A  GOOGL  10.0  1,063.15      0.00%   \n",
       "\n",
       "   Buy Price  Sell Price    Market Cap 52WkDiff  52weekhigh  52weeklow  \\\n",
       "0        NaN         NaN  5.666000e+11   57.26%         NaN     747.70   \n",
       "1        NaN         NaN  2.909600e+09  -47.66%        3.84       1.89   \n",
       "2        NaN         NaN  8.192700e+10   -4.51%      195.35     150.00   \n",
       "3        NaN         NaN  1.272100e+10   -5.63%       13.85       8.01   \n",
       "4        NaN         NaN  7.356400e+11   -2.15%     1086.49     789.62   \n",
       "\n",
       "       PE  Beta  ExpdDivExDate  \n",
       "0  296.79  1.46            NaN  \n",
       "1   95.89  1.94            NaN  \n",
       "2   29.66  0.98            NaN  \n",
       "3   16.42  2.16            NaN  \n",
       "4   35.42  0.90            NaN  "
      ]
     },
     "execution_count": 4,
     "metadata": {},
     "output_type": "execute_result"
    }
   ],
   "source": [
    "sData.head()"
   ]
  },
  {
   "cell_type": "code",
   "execution_count": 5,
   "metadata": {},
   "outputs": [
    {
     "data": {
      "text/plain": [
       "pandas.core.frame.DataFrame"
      ]
     },
     "execution_count": 5,
     "metadata": {},
     "output_type": "execute_result"
    }
   ],
   "source": [
    "type(sData)"
   ]
  },
  {
   "cell_type": "code",
   "execution_count": 6,
   "metadata": {},
   "outputs": [
    {
     "name": "stdout",
     "output_type": "stream",
     "text": [
      "43.74999999999999\n"
     ]
    }
   ],
   "source": [
    "m = np.mean(sData.PE)\n",
    "print(m)"
   ]
  },
  {
   "cell_type": "code",
   "execution_count": 7,
   "metadata": {},
   "outputs": [
    {
     "data": {
      "text/plain": [
       "0     AMZN\n",
       "1      CIG\n",
       "2     COST\n",
       "3      ECA\n",
       "4    GOOGL\n",
       "Name: Ticker, dtype: object"
      ]
     },
     "execution_count": 7,
     "metadata": {},
     "output_type": "execute_result"
    }
   ],
   "source": [
    "tkrs = sData.Ticker\n",
    "tkrs.head()"
   ]
  },
  {
   "cell_type": "markdown",
   "metadata": {},
   "source": [
    "## pull in time series data from google"
   ]
  },
  {
   "cell_type": "code",
   "execution_count": 8,
   "metadata": {
    "collapsed": true
   },
   "outputs": [],
   "source": [
    "#set dates:\n",
    "style.use('ggplot')\n",
    "\n",
    "start = dt.datetime(2000,1,1)\n",
    "end = dt.datetime(2017,12,13)\n",
    "\n",
    "TSLAdf = web.DataReader('TSLA', 'yahoo', start, end)\n",
    "\n",
    "dow = web.DataReader('^IXIC', 'yahoo', start, end)\n",
    "# print(\"dow\",dow[::-1].head(5))\n",
    "# print(\"TSLA\", TSLAdf.tail(5))\n"
   ]
  },
  {
   "cell_type": "code",
   "execution_count": 9,
   "metadata": {
    "scrolled": false
   },
   "outputs": [
    {
     "data": {
      "image/png": "[encoded data removed]",
      "text/plain": [
       "<matplotlib.figure.Figure at 0x1164ca0b8>"
      ]
     },
     "metadata": {},
     "output_type": "display_data"
    }
   ],
   "source": [
    "#plot\n",
    "dow[\"Adj Close\"].plot()\n",
    "plt.show()"
   ]
  },
  {
   "cell_type": "code",
   "execution_count": 10,
   "metadata": {},
   "outputs": [
    {
     "name": "stdout",
     "output_type": "stream",
     "text": [
      "                 Open   High        Low      Close  Adj Close    Volume\n",
      "Date                                                                   \n",
      "2010-06-29  19.000000  25.00  17.540001  23.889999  23.889999  18766300\n",
      "2010-06-30  25.790001  30.42  23.299999  23.830000  23.830000  17187100\n",
      "2010-07-01  25.000000  25.92  20.270000  21.959999  21.959999   8218800\n",
      "2010-07-02  23.000000  23.10  18.709999  19.200001  19.200001   5139800\n",
      "2010-07-06  20.000000  20.00  15.830000  16.110001  16.110001   6866900\n",
      "OpenTSLA\n",
      "HighTSLA\n",
      "LowTSLA\n",
      "CloseTSLA\n",
      "Adj CloseTSLA\n",
      "VolumeTSLA\n",
      "Opendow\n",
      "Highdow\n",
      "Lowdow\n",
      "Closedow\n",
      "Adj Closedow\n",
      "Volumedow\n",
      "             OpenTSLA  HighTSLA    LowTSLA  CloseTSLA  Adj CloseTSLA  \\\n",
      "Date                                                                   \n",
      "2010-06-29  19.000000     25.00  17.540001  23.889999      23.889999   \n",
      "2010-06-30  25.790001     30.42  23.299999  23.830000      23.830000   \n",
      "2010-07-01  25.000000     25.92  20.270000  21.959999      21.959999   \n",
      "2010-07-02  23.000000     23.10  18.709999  19.200001      19.200001   \n",
      "2010-07-06  20.000000     20.00  15.830000  16.110001      16.110001   \n",
      "\n",
      "            VolumeTSLA  \n",
      "Date                    \n",
      "2010-06-29    18766300  \n",
      "2010-06-30    17187100  \n",
      "2010-07-01     8218800  \n",
      "2010-07-02     5139800  \n",
      "2010-07-06     6866900                   Opendow      Highdow       Lowdow     Closedow  Adj Closedow  \\\n",
      "Date                                                                           \n",
      "2000-01-03  4186.189941  4192.189941  3989.709961  4131.149902   4131.149902   \n",
      "2000-01-04  4020.000000  4073.250000  3898.229980  3901.689941   3901.689941   \n",
      "2000-01-05  3854.350098  3924.209961  3734.870117  3877.540039   3877.540039   \n",
      "2000-01-06  3834.439941  3868.760010  3715.620117  3727.129883   3727.129883   \n",
      "2000-01-07  3711.090088  3882.669922  3711.090088  3882.620117   3882.620117   \n",
      "\n",
      "             Volumedow  \n",
      "Date                    \n",
      "2000-01-03  1510070000  \n",
      "2000-01-04  1511840000  \n",
      "2000-01-05  1735670000  \n",
      "2000-01-06  1598320000  \n",
      "2000-01-07  1634930000  \n"
     ]
    }
   ],
   "source": [
    "# tkr = \"TSLA\"\n",
    "# df = TSLAdf\n",
    "print(TSLAdf.head())\n",
    "def adaptHeaders(df,tkr):\n",
    "    headers = list(df)\n",
    "    newdf = df\n",
    "    #print(type(headers))\n",
    "\n",
    "    for header in headers:\n",
    "        newHeader = header + tkr\n",
    "        print(newHeader)\n",
    "        newdf.rename(columns={header: newHeader}, inplace=True)\n",
    "    \n",
    "    return newdf\n",
    "\n",
    "#df.rename(columns={\"Open\": \"OpenTest\"}, inplace=True)\n",
    "\n",
    "dfTSLA = adaptHeaders(TSLAdf, \"TSLA\")\n",
    "dfDow = adaptHeaders(dow, \"dow\")\n",
    "\n",
    "print(dfTSLA.head(),dfDow.head())\n",
    "    \n",
    "# TSLAdf.rename()\n",
    "# print (TSLAdf.rename( : , ))"
   ]
  },
  {
   "cell_type": "code",
   "execution_count": 11,
   "metadata": {
    "scrolled": true
   },
   "outputs": [
    {
     "data": {
      "text/html": [
       "<div>\n",
       "<style>\n",
       "    .dataframe thead tr:only-child th {\n",
       "        text-align: right;\n",
       "    }\n",
       "\n",
       "    .dataframe thead th {\n",
       "        text-align: left;\n",
       "    }\n",
       "\n",
       "    .dataframe tbody tr th {\n",
       "        vertical-align: top;\n",
       "    }\n",
       "</style>\n",
       "<table border=\"1\" class=\"dataframe\">\n",
       "  <thead>\n",
       "    <tr style=\"text-align: right;\">\n",
       "      <th></th>\n",
       "      <th>Adj CloseTSLA</th>\n",
       "      <th>Adj Closedow</th>\n",
       "    </tr>\n",
       "  </thead>\n",
       "  <tbody>\n",
       "    <tr>\n",
       "      <th>Adj CloseTSLA</th>\n",
       "      <td>1.000000</td>\n",
       "      <td>0.953297</td>\n",
       "    </tr>\n",
       "    <tr>\n",
       "      <th>Adj Closedow</th>\n",
       "      <td>0.953297</td>\n",
       "      <td>1.000000</td>\n",
       "    </tr>\n",
       "  </tbody>\n",
       "</table>\n",
       "</div>"
      ],
      "text/plain": [
       "               Adj CloseTSLA  Adj Closedow\n",
       "Adj CloseTSLA       1.000000      0.953297\n",
       "Adj Closedow        0.953297      1.000000"
      ]
     },
     "execution_count": 11,
     "metadata": {},
     "output_type": "execute_result"
    }
   ],
   "source": [
    "#print(dfTSLA.head())\n",
    "#dfDow\n",
    "\n",
    "corrTest2 = pd.merge(dfDow,dfTSLA, right_index=True, left_index=True)\n",
    "\n",
    "corrTest2[['Adj CloseTSLA','Adj Closedow']].corr(method='pearson')"
   ]
  },
  {
   "cell_type": "code",
   "execution_count": 14,
   "metadata": {
    "scrolled": true
   },
   "outputs": [
    {
     "data": {
      "text/html": [
       "<div>\n",
       "<style>\n",
       "    .dataframe thead tr:only-child th {\n",
       "        text-align: right;\n",
       "    }\n",
       "\n",
       "    .dataframe thead th {\n",
       "        text-align: left;\n",
       "    }\n",
       "\n",
       "    .dataframe tbody tr th {\n",
       "        vertical-align: top;\n",
       "    }\n",
       "</style>\n",
       "<table border=\"1\" class=\"dataframe\">\n",
       "  <thead>\n",
       "    <tr style=\"text-align: right;\">\n",
       "      <th></th>\n",
       "      <th>Opendow</th>\n",
       "      <th>Highdow</th>\n",
       "      <th>Lowdow</th>\n",
       "      <th>Closedow</th>\n",
       "      <th>Adj Closedow</th>\n",
       "      <th>Volumedow</th>\n",
       "      <th>OpenTSLA</th>\n",
       "      <th>HighTSLA</th>\n",
       "      <th>LowTSLA</th>\n",
       "      <th>CloseTSLA</th>\n",
       "      <th>Adj CloseTSLA</th>\n",
       "      <th>VolumeTSLA</th>\n",
       "    </tr>\n",
       "  </thead>\n",
       "  <tbody>\n",
       "    <tr>\n",
       "      <th>Opendow</th>\n",
       "      <td>1.000000</td>\n",
       "      <td>0.999877</td>\n",
       "      <td>0.999818</td>\n",
       "      <td>0.999675</td>\n",
       "      <td>0.999675</td>\n",
       "      <td>0.023179</td>\n",
       "      <td>0.953076</td>\n",
       "      <td>0.952591</td>\n",
       "      <td>0.954074</td>\n",
       "      <td>0.953319</td>\n",
       "      <td>0.953319</td>\n",
       "      <td>0.349436</td>\n",
       "    </tr>\n",
       "    <tr>\n",
       "      <th>Highdow</th>\n",
       "      <td>0.999877</td>\n",
       "      <td>1.000000</td>\n",
       "      <td>0.999790</td>\n",
       "      <td>0.999832</td>\n",
       "      <td>0.999832</td>\n",
       "      <td>0.026200</td>\n",
       "      <td>0.953371</td>\n",
       "      <td>0.953007</td>\n",
       "      <td>0.954429</td>\n",
       "      <td>0.953782</td>\n",
       "      <td>0.953782</td>\n",
       "      <td>0.349603</td>\n",
       "    </tr>\n",
       "    <tr>\n",
       "      <th>Lowdow</th>\n",
       "      <td>0.999818</td>\n",
       "      <td>0.999790</td>\n",
       "      <td>1.000000</td>\n",
       "      <td>0.999865</td>\n",
       "      <td>0.999865</td>\n",
       "      <td>0.016368</td>\n",
       "      <td>0.952260</td>\n",
       "      <td>0.951860</td>\n",
       "      <td>0.953490</td>\n",
       "      <td>0.952778</td>\n",
       "      <td>0.952778</td>\n",
       "      <td>0.348314</td>\n",
       "    </tr>\n",
       "    <tr>\n",
       "      <th>Closedow</th>\n",
       "      <td>0.999675</td>\n",
       "      <td>0.999832</td>\n",
       "      <td>0.999865</td>\n",
       "      <td>1.000000</td>\n",
       "      <td>1.000000</td>\n",
       "      <td>0.020106</td>\n",
       "      <td>0.952655</td>\n",
       "      <td>0.952324</td>\n",
       "      <td>0.953872</td>\n",
       "      <td>0.953297</td>\n",
       "      <td>0.953297</td>\n",
       "      <td>0.348545</td>\n",
       "    </tr>\n",
       "    <tr>\n",
       "      <th>Adj Closedow</th>\n",
       "      <td>0.999675</td>\n",
       "      <td>0.999832</td>\n",
       "      <td>0.999865</td>\n",
       "      <td>1.000000</td>\n",
       "      <td>1.000000</td>\n",
       "      <td>0.020106</td>\n",
       "      <td>0.952655</td>\n",
       "      <td>0.952324</td>\n",
       "      <td>0.953872</td>\n",
       "      <td>0.953297</td>\n",
       "      <td>0.953297</td>\n",
       "      <td>0.348545</td>\n",
       "    </tr>\n",
       "    <tr>\n",
       "      <th>Volumedow</th>\n",
       "      <td>0.023179</td>\n",
       "      <td>0.026200</td>\n",
       "      <td>0.016368</td>\n",
       "      <td>0.020106</td>\n",
       "      <td>0.020106</td>\n",
       "      <td>1.000000</td>\n",
       "      <td>0.056041</td>\n",
       "      <td>0.056949</td>\n",
       "      <td>0.051865</td>\n",
       "      <td>0.053322</td>\n",
       "      <td>0.053322</td>\n",
       "      <td>0.089663</td>\n",
       "    </tr>\n",
       "    <tr>\n",
       "      <th>OpenTSLA</th>\n",
       "      <td>0.953076</td>\n",
       "      <td>0.953371</td>\n",
       "      <td>0.952260</td>\n",
       "      <td>0.952655</td>\n",
       "      <td>0.952655</td>\n",
       "      <td>0.056041</td>\n",
       "      <td>1.000000</td>\n",
       "      <td>0.999680</td>\n",
       "      <td>0.999647</td>\n",
       "      <td>0.999279</td>\n",
       "      <td>0.999279</td>\n",
       "      <td>0.419127</td>\n",
       "    </tr>\n",
       "    <tr>\n",
       "      <th>HighTSLA</th>\n",
       "      <td>0.952591</td>\n",
       "      <td>0.953007</td>\n",
       "      <td>0.951860</td>\n",
       "      <td>0.952324</td>\n",
       "      <td>0.952324</td>\n",
       "      <td>0.056949</td>\n",
       "      <td>0.999680</td>\n",
       "      <td>1.000000</td>\n",
       "      <td>0.999603</td>\n",
       "      <td>0.999711</td>\n",
       "      <td>0.999711</td>\n",
       "      <td>0.427012</td>\n",
       "    </tr>\n",
       "    <tr>\n",
       "      <th>LowTSLA</th>\n",
       "      <td>0.954074</td>\n",
       "      <td>0.954429</td>\n",
       "      <td>0.953490</td>\n",
       "      <td>0.953872</td>\n",
       "      <td>0.953872</td>\n",
       "      <td>0.051865</td>\n",
       "      <td>0.999647</td>\n",
       "      <td>0.999603</td>\n",
       "      <td>1.000000</td>\n",
       "      <td>0.999696</td>\n",
       "      <td>0.999696</td>\n",
       "      <td>0.410160</td>\n",
       "    </tr>\n",
       "    <tr>\n",
       "      <th>CloseTSLA</th>\n",
       "      <td>0.953319</td>\n",
       "      <td>0.953782</td>\n",
       "      <td>0.952778</td>\n",
       "      <td>0.953297</td>\n",
       "      <td>0.953297</td>\n",
       "      <td>0.053322</td>\n",
       "      <td>0.999279</td>\n",
       "      <td>0.999711</td>\n",
       "      <td>0.999696</td>\n",
       "      <td>1.000000</td>\n",
       "      <td>1.000000</td>\n",
       "      <td>0.418459</td>\n",
       "    </tr>\n",
       "    <tr>\n",
       "      <th>Adj CloseTSLA</th>\n",
       "      <td>0.953319</td>\n",
       "      <td>0.953782</td>\n",
       "      <td>0.952778</td>\n",
       "      <td>0.953297</td>\n",
       "      <td>0.953297</td>\n",
       "      <td>0.053322</td>\n",
       "      <td>0.999279</td>\n",
       "      <td>0.999711</td>\n",
       "      <td>0.999696</td>\n",
       "      <td>1.000000</td>\n",
       "      <td>1.000000</td>\n",
       "      <td>0.418459</td>\n",
       "    </tr>\n",
       "    <tr>\n",
       "      <th>VolumeTSLA</th>\n",
       "      <td>0.349436</td>\n",
       "      <td>0.349603</td>\n",
       "      <td>0.348314</td>\n",
       "      <td>0.348545</td>\n",
       "      <td>0.348545</td>\n",
       "      <td>0.089663</td>\n",
       "      <td>0.419127</td>\n",
       "      <td>0.427012</td>\n",
       "      <td>0.410160</td>\n",
       "      <td>0.418459</td>\n",
       "      <td>0.418459</td>\n",
       "      <td>1.000000</td>\n",
       "    </tr>\n",
       "  </tbody>\n",
       "</table>\n",
       "</div>"
      ],
      "text/plain": [
       "                Opendow   Highdow    Lowdow  Closedow  Adj Closedow  \\\n",
       "Opendow        1.000000  0.999877  0.999818  0.999675      0.999675   \n",
       "Highdow        0.999877  1.000000  0.999790  0.999832      0.999832   \n",
       "Lowdow         0.999818  0.999790  1.000000  0.999865      0.999865   \n",
       "Closedow       0.999675  0.999832  0.999865  1.000000      1.000000   \n",
       "Adj Closedow   0.999675  0.999832  0.999865  1.000000      1.000000   \n",
       "Volumedow      0.023179  0.026200  0.016368  0.020106      0.020106   \n",
       "OpenTSLA       0.953076  0.953371  0.952260  0.952655      0.952655   \n",
       "HighTSLA       0.952591  0.953007  0.951860  0.952324      0.952324   \n",
       "LowTSLA        0.954074  0.954429  0.953490  0.953872      0.953872   \n",
       "CloseTSLA      0.953319  0.953782  0.952778  0.953297      0.953297   \n",
       "Adj CloseTSLA  0.953319  0.953782  0.952778  0.953297      0.953297   \n",
       "VolumeTSLA     0.349436  0.349603  0.348314  0.348545      0.348545   \n",
       "\n",
       "               Volumedow  OpenTSLA  HighTSLA   LowTSLA  CloseTSLA  \\\n",
       "Opendow         0.023179  0.953076  0.952591  0.954074   0.953319   \n",
       "Highdow         0.026200  0.953371  0.953007  0.954429   0.953782   \n",
       "Lowdow          0.016368  0.952260  0.951860  0.953490   0.952778   \n",
       "Closedow        0.020106  0.952655  0.952324  0.953872   0.953297   \n",
       "Adj Closedow    0.020106  0.952655  0.952324  0.953872   0.953297   \n",
       "Volumedow       1.000000  0.056041  0.056949  0.051865   0.053322   \n",
       "OpenTSLA        0.056041  1.000000  0.999680  0.999647   0.999279   \n",
       "HighTSLA        0.056949  0.999680  1.000000  0.999603   0.999711   \n",
       "LowTSLA         0.051865  0.999647  0.999603  1.000000   0.999696   \n",
       "CloseTSLA       0.053322  0.999279  0.999711  0.999696   1.000000   \n",
       "Adj CloseTSLA   0.053322  0.999279  0.999711  0.999696   1.000000   \n",
       "VolumeTSLA      0.089663  0.419127  0.427012  0.410160   0.418459   \n",
       "\n",
       "               Adj CloseTSLA  VolumeTSLA  \n",
       "Opendow             0.953319    0.349436  \n",
       "Highdow             0.953782    0.349603  \n",
       "Lowdow              0.952778    0.348314  \n",
       "Closedow            0.953297    0.348545  \n",
       "Adj Closedow        0.953297    0.348545  \n",
       "Volumedow           0.053322    0.089663  \n",
       "OpenTSLA            0.999279    0.419127  \n",
       "HighTSLA            0.999711    0.427012  \n",
       "LowTSLA             0.999696    0.410160  \n",
       "CloseTSLA           1.000000    0.418459  \n",
       "Adj CloseTSLA       1.000000    0.418459  \n",
       "VolumeTSLA          0.418459    1.000000  "
      ]
     },
     "execution_count": 14,
     "metadata": {},
     "output_type": "execute_result"
    }
   ],
   "source": [
    "#Correlation\n",
    "\n",
    "corrTest2.corr(method='pearson')"
   ]
  },
  {
   "cell_type": "code",
   "execution_count": 15,
   "metadata": {
    "scrolled": true
   },
   "outputs": [
    {
     "data": {
      "text/html": [
       "<div>\n",
       "<style>\n",
       "    .dataframe thead tr:only-child th {\n",
       "        text-align: right;\n",
       "    }\n",
       "\n",
       "    .dataframe thead th {\n",
       "        text-align: left;\n",
       "    }\n",
       "\n",
       "    .dataframe tbody tr th {\n",
       "        vertical-align: top;\n",
       "    }\n",
       "</style>\n",
       "<table border=\"1\" class=\"dataframe\">\n",
       "  <thead>\n",
       "    <tr style=\"text-align: right;\">\n",
       "      <th></th>\n",
       "      <th>United States</th>\n",
       "    </tr>\n",
       "    <tr>\n",
       "      <th>Date</th>\n",
       "      <th></th>\n",
       "    </tr>\n",
       "  </thead>\n",
       "  <tbody>\n",
       "    <tr>\n",
       "      <th>1975-01-31</th>\n",
       "      <td>0.000000</td>\n",
       "    </tr>\n",
       "    <tr>\n",
       "      <th>1975-02-28</th>\n",
       "      <td>0.649201</td>\n",
       "    </tr>\n",
       "    <tr>\n",
       "      <th>1975-03-31</th>\n",
       "      <td>1.720612</td>\n",
       "    </tr>\n",
       "    <tr>\n",
       "      <th>1975-04-30</th>\n",
       "      <td>3.115969</td>\n",
       "    </tr>\n",
       "    <tr>\n",
       "      <th>1975-05-31</th>\n",
       "      <td>3.968672</td>\n",
       "    </tr>\n",
       "    <tr>\n",
       "      <th>1975-06-30</th>\n",
       "      <td>4.142241</td>\n",
       "    </tr>\n",
       "    <tr>\n",
       "      <th>1975-07-31</th>\n",
       "      <td>4.378851</td>\n",
       "    </tr>\n",
       "    <tr>\n",
       "      <th>1975-08-31</th>\n",
       "      <td>4.799540</td>\n",
       "    </tr>\n",
       "    <tr>\n",
       "      <th>1975-09-30</th>\n",
       "      <td>5.175557</td>\n",
       "    </tr>\n",
       "    <tr>\n",
       "      <th>1975-10-31</th>\n",
       "      <td>5.517447</td>\n",
       "    </tr>\n",
       "    <tr>\n",
       "      <th>1975-11-30</th>\n",
       "      <td>6.001757</td>\n",
       "    </tr>\n",
       "    <tr>\n",
       "      <th>1975-12-31</th>\n",
       "      <td>6.635380</td>\n",
       "    </tr>\n",
       "    <tr>\n",
       "      <th>1976-01-31</th>\n",
       "      <td>7.284305</td>\n",
       "    </tr>\n",
       "    <tr>\n",
       "      <th>1976-02-29</th>\n",
       "      <td>7.952588</td>\n",
       "    </tr>\n",
       "    <tr>\n",
       "      <th>1976-03-31</th>\n",
       "      <td>8.893802</td>\n",
       "    </tr>\n",
       "    <tr>\n",
       "      <th>1976-04-30</th>\n",
       "      <td>10.106826</td>\n",
       "    </tr>\n",
       "    <tr>\n",
       "      <th>1976-05-31</th>\n",
       "      <td>10.985126</td>\n",
       "    </tr>\n",
       "    <tr>\n",
       "      <th>1976-06-30</th>\n",
       "      <td>11.586061</td>\n",
       "    </tr>\n",
       "    <tr>\n",
       "      <th>1976-07-31</th>\n",
       "      <td>12.347057</td>\n",
       "    </tr>\n",
       "    <tr>\n",
       "      <th>1976-08-31</th>\n",
       "      <td>13.095691</td>\n",
       "    </tr>\n",
       "    <tr>\n",
       "      <th>1976-09-30</th>\n",
       "      <td>13.708951</td>\n",
       "    </tr>\n",
       "    <tr>\n",
       "      <th>1976-10-31</th>\n",
       "      <td>14.351743</td>\n",
       "    </tr>\n",
       "    <tr>\n",
       "      <th>1976-11-30</th>\n",
       "      <td>15.215677</td>\n",
       "    </tr>\n",
       "    <tr>\n",
       "      <th>1976-12-31</th>\n",
       "      <td>16.105013</td>\n",
       "    </tr>\n",
       "    <tr>\n",
       "      <th>1977-01-31</th>\n",
       "      <td>16.944354</td>\n",
       "    </tr>\n",
       "    <tr>\n",
       "      <th>1977-02-28</th>\n",
       "      <td>17.966513</td>\n",
       "    </tr>\n",
       "    <tr>\n",
       "      <th>1977-03-31</th>\n",
       "      <td>19.528672</td>\n",
       "    </tr>\n",
       "    <tr>\n",
       "      <th>1977-04-30</th>\n",
       "      <td>21.719458</td>\n",
       "    </tr>\n",
       "    <tr>\n",
       "      <th>1977-05-31</th>\n",
       "      <td>23.621577</td>\n",
       "    </tr>\n",
       "    <tr>\n",
       "      <th>1977-06-30</th>\n",
       "      <td>24.965030</td>\n",
       "    </tr>\n",
       "    <tr>\n",
       "      <th>...</th>\n",
       "      <td>...</td>\n",
       "    </tr>\n",
       "    <tr>\n",
       "      <th>2015-04-30</th>\n",
       "      <td>554.609531</td>\n",
       "    </tr>\n",
       "    <tr>\n",
       "      <th>2015-05-31</th>\n",
       "      <td>562.918019</td>\n",
       "    </tr>\n",
       "    <tr>\n",
       "      <th>2015-06-30</th>\n",
       "      <td>569.614097</td>\n",
       "    </tr>\n",
       "    <tr>\n",
       "      <th>2015-07-31</th>\n",
       "      <td>573.508945</td>\n",
       "    </tr>\n",
       "    <tr>\n",
       "      <th>2015-08-31</th>\n",
       "      <td>574.914957</td>\n",
       "    </tr>\n",
       "    <tr>\n",
       "      <th>2015-09-30</th>\n",
       "      <td>575.042956</td>\n",
       "    </tr>\n",
       "    <tr>\n",
       "      <th>2015-10-31</th>\n",
       "      <td>574.950874</td>\n",
       "    </tr>\n",
       "    <tr>\n",
       "      <th>2015-11-30</th>\n",
       "      <td>574.651966</td>\n",
       "    </tr>\n",
       "    <tr>\n",
       "      <th>2015-12-31</th>\n",
       "      <td>573.976901</td>\n",
       "    </tr>\n",
       "    <tr>\n",
       "      <th>2016-01-31</th>\n",
       "      <td>574.320641</td>\n",
       "    </tr>\n",
       "    <tr>\n",
       "      <th>2016-02-29</th>\n",
       "      <td>578.589407</td>\n",
       "    </tr>\n",
       "    <tr>\n",
       "      <th>2016-03-31</th>\n",
       "      <td>586.647361</td>\n",
       "    </tr>\n",
       "    <tr>\n",
       "      <th>2016-04-30</th>\n",
       "      <td>595.778026</td>\n",
       "    </tr>\n",
       "    <tr>\n",
       "      <th>2016-05-31</th>\n",
       "      <td>604.398617</td>\n",
       "    </tr>\n",
       "    <tr>\n",
       "      <th>2016-06-30</th>\n",
       "      <td>611.252874</td>\n",
       "    </tr>\n",
       "    <tr>\n",
       "      <th>2016-07-31</th>\n",
       "      <td>615.442467</td>\n",
       "    </tr>\n",
       "    <tr>\n",
       "      <th>2016-08-31</th>\n",
       "      <td>617.219937</td>\n",
       "    </tr>\n",
       "    <tr>\n",
       "      <th>2016-09-30</th>\n",
       "      <td>617.467090</td>\n",
       "    </tr>\n",
       "    <tr>\n",
       "      <th>2016-10-31</th>\n",
       "      <td>617.295803</td>\n",
       "    </tr>\n",
       "    <tr>\n",
       "      <th>2016-11-30</th>\n",
       "      <td>616.982343</td>\n",
       "    </tr>\n",
       "    <tr>\n",
       "      <th>2016-12-31</th>\n",
       "      <td>616.937964</td>\n",
       "    </tr>\n",
       "    <tr>\n",
       "      <th>2017-01-31</th>\n",
       "      <td>618.425336</td>\n",
       "    </tr>\n",
       "    <tr>\n",
       "      <th>2017-02-28</th>\n",
       "      <td>623.340176</td>\n",
       "    </tr>\n",
       "    <tr>\n",
       "      <th>2017-03-31</th>\n",
       "      <td>632.154335</td>\n",
       "    </tr>\n",
       "    <tr>\n",
       "      <th>2017-04-30</th>\n",
       "      <td>642.864610</td>\n",
       "    </tr>\n",
       "    <tr>\n",
       "      <th>2017-05-31</th>\n",
       "      <td>652.679877</td>\n",
       "    </tr>\n",
       "    <tr>\n",
       "      <th>2017-06-30</th>\n",
       "      <td>659.637766</td>\n",
       "    </tr>\n",
       "    <tr>\n",
       "      <th>2017-07-31</th>\n",
       "      <td>663.855717</td>\n",
       "    </tr>\n",
       "    <tr>\n",
       "      <th>2017-08-31</th>\n",
       "      <td>666.151894</td>\n",
       "    </tr>\n",
       "    <tr>\n",
       "      <th>2017-09-30</th>\n",
       "      <td>666.543382</td>\n",
       "    </tr>\n",
       "  </tbody>\n",
       "</table>\n",
       "<p>513 rows × 1 columns</p>\n",
       "</div>"
      ],
      "text/plain": [
       "            United States\n",
       "Date                     \n",
       "1975-01-31       0.000000\n",
       "1975-02-28       0.649201\n",
       "1975-03-31       1.720612\n",
       "1975-04-30       3.115969\n",
       "1975-05-31       3.968672\n",
       "1975-06-30       4.142241\n",
       "1975-07-31       4.378851\n",
       "1975-08-31       4.799540\n",
       "1975-09-30       5.175557\n",
       "1975-10-31       5.517447\n",
       "1975-11-30       6.001757\n",
       "1975-12-31       6.635380\n",
       "1976-01-31       7.284305\n",
       "1976-02-29       7.952588\n",
       "1976-03-31       8.893802\n",
       "1976-04-30      10.106826\n",
       "1976-05-31      10.985126\n",
       "1976-06-30      11.586061\n",
       "1976-07-31      12.347057\n",
       "1976-08-31      13.095691\n",
       "1976-09-30      13.708951\n",
       "1976-10-31      14.351743\n",
       "1976-11-30      15.215677\n",
       "1976-12-31      16.105013\n",
       "1977-01-31      16.944354\n",
       "1977-02-28      17.966513\n",
       "1977-03-31      19.528672\n",
       "1977-04-30      21.719458\n",
       "1977-05-31      23.621577\n",
       "1977-06-30      24.965030\n",
       "...                   ...\n",
       "2015-04-30     554.609531\n",
       "2015-05-31     562.918019\n",
       "2015-06-30     569.614097\n",
       "2015-07-31     573.508945\n",
       "2015-08-31     574.914957\n",
       "2015-09-30     575.042956\n",
       "2015-10-31     574.950874\n",
       "2015-11-30     574.651966\n",
       "2015-12-31     573.976901\n",
       "2016-01-31     574.320641\n",
       "2016-02-29     578.589407\n",
       "2016-03-31     586.647361\n",
       "2016-04-30     595.778026\n",
       "2016-05-31     604.398617\n",
       "2016-06-30     611.252874\n",
       "2016-07-31     615.442467\n",
       "2016-08-31     617.219937\n",
       "2016-09-30     617.467090\n",
       "2016-10-31     617.295803\n",
       "2016-11-30     616.982343\n",
       "2016-12-31     616.937964\n",
       "2017-01-31     618.425336\n",
       "2017-02-28     623.340176\n",
       "2017-03-31     632.154335\n",
       "2017-04-30     642.864610\n",
       "2017-05-31     652.679877\n",
       "2017-06-30     659.637766\n",
       "2017-07-31     663.855717\n",
       "2017-08-31     666.151894\n",
       "2017-09-30     666.543382\n",
       "\n",
       "[513 rows x 1 columns]"
      ]
     },
     "execution_count": 15,
     "metadata": {},
     "output_type": "execute_result"
    }
   ],
   "source": [
    "\n",
    "def state_list():\n",
    "    fiddy_states = pd.read_html('https://simple.wikipedia.org/wiki/List_of_U.S._states')\n",
    "    return fiddy_states[0][0][1:]\n",
    "\n",
    "\n",
    "\n",
    "def grab_initial_State_Data():\n",
    "    states = state_list()\n",
    "    main_df = pd.DataFrame()\n",
    "\n",
    "    for abbv in fiddy_states[0][0][1:]:\n",
    "        print(abbv)\n",
    "        query = (\"FMAC/HPI_\"+str(abbv))\n",
    "        df = quandl.get(query)\n",
    " \n",
    "        if main_df.empty:\n",
    "            main_df = df\n",
    "        else:\n",
    "            df.columns=[str(abbv)]\n",
    "            (df[str(abbv)]) = (df[str(abbv)]-df[str(abbv)][0]) / df[str(abbv)][0] * 100.0\n",
    "\n",
    "            main_df = main_df.merge(df, left_index=True,right_index=True)\n",
    "    \n",
    "    joblib.dump(main_df,\"HPI_data2.pkl\")\n",
    "\n",
    "def HPI_Benchmark():\n",
    "    query = (\"FMAC/HPI_USA\")\n",
    "    df = quandl.get(query)\n",
    "    name = \"United States\"\n",
    "    df.columns = [name]\n",
    "    df[name] = (df[name]-df[name][0]) / df[name][0] * 100.0\n",
    "    return df\n",
    "\n",
    "\n",
    "HPI_Benchmark()\n",
    "#grab_initial_State_Data()\n",
    "#print (main_df.head())"
   ]
  },
  {
   "cell_type": "code",
   "execution_count": 16,
   "metadata": {
    "scrolled": true
   },
   "outputs": [
    {
     "name": "stdout",
     "output_type": "stream",
     "text": [
      "                Value        AK        AZ        AR        CA        CO  \\\n",
      "Date                                                                      \n",
      "1975-01-31  35.303417  0.000000  0.000000  0.000000  0.000000  0.000000   \n",
      "1975-02-28  35.502507  1.443292  1.622304  1.044229  0.310304  0.973785   \n",
      "1975-03-31  35.734654  2.921545  3.185277  1.962586  1.550517  1.952386   \n",
      "1975-04-30  36.015829  4.479968  4.447226  2.707659  3.571143  2.942198   \n",
      "1975-05-31  36.267298  6.221807  5.162205  3.388223  5.208027  3.832904   \n",
      "\n",
      "                  CT        DE         FL        GA    ...           SD  \\\n",
      "Date                                                   ...                \n",
      "1975-01-31  0.000000  0.000000   0.000000  0.000000    ...     0.000000   \n",
      "1975-02-28  2.168419 -0.052497   3.617438 -0.803698    ...    -1.226813   \n",
      "1975-03-31  3.795496  0.034649   9.205056 -1.136961    ...    -2.463689   \n",
      "1975-04-30  4.667161  0.444086  16.308538 -0.949851    ...    -3.678649   \n",
      "1975-05-31  4.857912  1.278660  17.033368 -0.650476    ...    -4.769078   \n",
      "\n",
      "                  TN        TX        UT        VT        VA        WA  \\\n",
      "Date                                                                     \n",
      "1975-01-31  0.000000  0.000000  0.000000  0.000000  0.000000  0.000000   \n",
      "1975-02-28  0.048807  1.148615  1.541548  1.199851  0.960963  0.612541   \n",
      "1975-03-31  0.242424  3.100683  2.915531  2.361456  1.697594  1.375643   \n",
      "1975-04-30  0.593438  5.764963  3.996545  3.422738  2.294942  2.198431   \n",
      "1975-05-31  1.032576  6.370824  4.716665  4.357170  2.856658  2.915198   \n",
      "\n",
      "                   WV        WI        WY  \n",
      "Date                                       \n",
      "1975-01-31   0.000000  0.000000  0.000000  \n",
      "1975-02-28   2.629958  1.249901  1.605511  \n",
      "1975-03-31   5.366539  2.396076  3.292233  \n",
      "1975-04-30   8.177564  3.334000  5.007574  \n",
      "1975-05-31  10.982064  4.067649  6.621349  \n",
      "\n",
      "[5 rows x 50 columns]\n"
     ]
    }
   ],
   "source": [
    "#pickle the dataframe\n",
    "# pickle_in = open('fiddy_state.pickle', 'rb')\n",
    "HPI_Data2 = joblib.load('HPI_data2.pkl')\n",
    "\n",
    "print(HPI_Data2.head())"
   ]
  },
  {
   "cell_type": "code",
   "execution_count": 17,
   "metadata": {},
   "outputs": [
    {
     "name": "stdout",
     "output_type": "stream",
     "text": [
      "        TX  TX2\n",
      "count  2.0  2.0\n",
      "mean   1.0  1.0\n",
      "std    0.0  0.0\n",
      "min    1.0  1.0\n",
      "25%    1.0  1.0\n",
      "50%    1.0  1.0\n",
      "75%    1.0  1.0\n",
      "max    1.0  1.0\n"
     ]
    }
   ],
   "source": [
    "HPI_Data2['TX2'] = HPI_Data2['TX'] * 2\n",
    "\n",
    "corTest = HPI_Data2[['TX','TX2']]\n",
    "\n",
    "corrTest2 = corTest.corr(method='pearson')\n",
    "print(corrTest2.describe())"
   ]
  },
  {
   "cell_type": "code",
   "execution_count": 18,
   "metadata": {},
   "outputs": [
    {
     "data": {
      "image/png": "[encoded data removed]",
      "text/plain": [
       "<matplotlib.figure.Figure at 0x11657c7b8>"
      ]
     },
     "metadata": {},
     "output_type": "display_data"
    }
   ],
   "source": [
    "#%matplotlib gtk\n",
    "\n",
    "fig = plt.figure()\n",
    "ax1 = plt.subplot2grid((1,1), (0,0))\n",
    "\n",
    "benchmark = HPI_Benchmark()\n",
    "\n",
    "HPI_Data2.plot(ax = ax1)\n",
    "benchmark.plot(ax = ax1, color = 'k', linewidth= 10)\n",
    "\n",
    "plt.legend().remove\n",
    "plt.show()"
   ]
  },
  {
   "cell_type": "code",
   "execution_count": 19,
   "metadata": {},
   "outputs": [
    {
     "name": "stdout",
     "output_type": "stream",
     "text": [
      "           Value         AK         AZ         AR         CA         CO  \\\n",
      "count  51.000000  51.000000  51.000000  51.000000  51.000000  51.000000   \n",
      "mean    0.969145   0.943222   0.936421   0.971611   0.948567   0.952034   \n",
      "std     0.025701   0.040036   0.025950   0.025279   0.022670   0.030266   \n",
      "min     0.881332   0.785736   0.860392   0.870650   0.876620   0.847378   \n",
      "25%     0.954145   0.932536   0.922616   0.963856   0.936668   0.936829   \n",
      "50%     0.976743   0.953732   0.939049   0.978513   0.946632   0.958097   \n",
      "75%     0.985698   0.964803   0.948163   0.988714   0.964443   0.973707   \n",
      "max     1.000000   1.000000   1.000000   1.000000   1.000000   1.000000   \n",
      "\n",
      "              CT         DE         FL         GA    ...             TN  \\\n",
      "count  51.000000  51.000000  51.000000  51.000000    ...      51.000000   \n",
      "mean    0.926220   0.961239   0.932724   0.955139    ...       0.970650   \n",
      "std     0.041454   0.029315   0.029276   0.025461    ...       0.025145   \n",
      "min     0.816186   0.871262   0.849449   0.864569    ...       0.867048   \n",
      "25%     0.898692   0.949718   0.917038   0.946303    ...       0.960906   \n",
      "50%     0.931534   0.966972   0.932061   0.958386    ...       0.976528   \n",
      "75%     0.957288   0.980394   0.950581   0.972462    ...       0.988016   \n",
      "max     1.000000   1.000000   1.000000   1.000000    ...       1.000000   \n",
      "\n",
      "              TX         UT         VT         VA         WA         WV  \\\n",
      "count  51.000000  51.000000  51.000000  51.000000  51.000000  51.000000   \n",
      "mean    0.934035   0.957956   0.962740   0.966526   0.966737   0.964702   \n",
      "std     0.041185   0.030972   0.029663   0.025449   0.023360   0.030869   \n",
      "min     0.803584   0.859219   0.848529   0.854787   0.875904   0.841929   \n",
      "25%     0.915955   0.944111   0.955611   0.960491   0.958884   0.956666   \n",
      "50%     0.938758   0.964153   0.971370   0.973161   0.972627   0.974597   \n",
      "75%     0.961790   0.981618   0.980013   0.980149   0.980375   0.983558   \n",
      "max     1.000000   1.000000   1.000000   1.000000   1.000000   1.000000   \n",
      "\n",
      "              WI         WY        TX2  \n",
      "count  51.000000  51.000000  51.000000  \n",
      "mean    0.964294   0.942943   0.934035  \n",
      "std     0.025994   0.041638   0.041185  \n",
      "min     0.886364   0.783301   0.803584  \n",
      "25%     0.951555   0.927279   0.915955  \n",
      "50%     0.969564   0.954253   0.938758  \n",
      "75%     0.984658   0.966189   0.961790  \n",
      "max     1.000000   1.000000   1.000000  \n",
      "\n",
      "[8 rows x 51 columns]\n"
     ]
    }
   ],
   "source": [
    "print(HPI_Data2.corr().describe())\n",
    "# HPI_State_Corelation"
   ]
  },
  {
   "cell_type": "code",
   "execution_count": 20,
   "metadata": {
    "scrolled": true
   },
   "outputs": [
    {
     "name": "stdout",
     "output_type": "stream",
     "text": [
      "Date\n",
      "1975-12-31     4.068020\n",
      "1976-12-31    11.489949\n",
      "1977-12-31    22.595169\n",
      "1978-12-31    40.848365\n",
      "1979-12-31    63.467648\n",
      "Freq: A-DEC, Name: TX, dtype: float64\n"
     ]
    },
    {
     "data": {
      "image/png": "[encoded data removed]",
      "text/plain": [
       "<matplotlib.figure.Figure at 0x11ef47f98>"
      ]
     },
     "metadata": {},
     "output_type": "display_data"
    }
   ],
   "source": [
    "TXLyr = HPI_Data2['TX'].resample('A').mean()\n",
    "print(TXLyr.head())\n",
    "\n",
    "#%matplotlib gtk\n",
    "\n",
    "fig = plt.figure()\n",
    "ax1 = plt.subplot2grid((1,1), (0,0))\n",
    "\n",
    "HPI_Data2['TX'].plot(ax=ax1)\n",
    "TXLyr.plot(color='k', ax = ax1)\n",
    "# benchmark.plot(ax = ax1, color = 'k', linewidth= 10)\n",
    "\n",
    "plt.legend().remove\n",
    "plt.show()"
   ]
  },
  {
   "cell_type": "code",
   "execution_count": 38,
   "metadata": {
    "collapsed": true
   },
   "outputs": [],
   "source": [
    "def mortgage_30():\n",
    "    query = (\"FMAC/MORTG\")\n",
    "    df = quandl.get(query, trim_start='1975-01-01')\n",
    "    df = df.resample('1D').mean()\n",
    "    df = df.resample('M').mean()\n",
    "    df[\"Value\"] = (df[\"Value\"]-df[\"Value\"][0]) / df[\"Value\"][0] * 100.0\n",
    "    name = \"M30\"\n",
    "    df.columns = [name]\n",
    "    return df"
   ]
  },
  {
   "cell_type": "code",
   "execution_count": 39,
   "metadata": {
    "scrolled": false
   },
   "outputs": [
    {
     "name": "stdout",
     "output_type": "stream",
     "text": [
      "                 M30\n",
      "Date                \n",
      "1975-01-31  0.000000\n",
      "1975-02-28 -3.393425\n",
      "1975-03-31 -5.620361\n",
      "1975-04-30 -6.468717\n",
      "1975-05-31 -5.514316\n"
     ]
    }
   ],
   "source": [
    "print (mortgage_30().head())\n"
   ]
  },
  {
   "cell_type": "code",
   "execution_count": 40,
   "metadata": {
    "scrolled": false
   },
   "outputs": [
    {
     "name": "stdout",
     "output_type": "stream",
     "text": [
      "            United States       M30\n",
      "Date                               \n",
      "1975-01-31       0.000000  0.000000\n",
      "1975-02-28       0.649201 -3.393425\n",
      "1975-03-31       1.720612 -5.620361\n",
      "1975-04-30       3.115969 -6.468717\n",
      "1975-05-31       3.968672 -5.514316\n",
      "               United States       M30\n",
      "United States       1.000000 -0.778478\n",
      "M30                -0.778478  1.000000\n"
     ]
    }
   ],
   "source": [
    "m30 = mortgage_30()\n",
    "HPI_Bench = HPI_Benchmark()\n",
    "HPI = HPI_Bench.join(m30)\n",
    "print(HPI.head())\n",
    "print(HPI.corr().head())"
   ]
  },
  {
   "cell_type": "code",
   "execution_count": 37,
   "metadata": {
    "scrolled": true
   },
   "outputs": [
    {
     "name": "stdout",
     "output_type": "stream",
     "text": [
      "count    52.000000\n",
      "mean     -0.738243\n",
      "std       0.249446\n",
      "min      -0.826909\n",
      "25%      -0.798490\n",
      "50%      -0.786644\n",
      "75%      -0.753820\n",
      "max       1.000000\n",
      "Name: M30, dtype: float64\n"
     ]
    }
   ],
   "source": [
    "HPI_M30 = HPI_Data2.join(m30)\n",
    "print(HPI_M30.corr()['M30'].describe())\n"
   ]
  },
  {
   "cell_type": "code",
   "execution_count": 80,
   "metadata": {
    "collapsed": true
   },
   "outputs": [],
   "source": [
    "def sp500_data():\n",
    "    df = quandl.get(\"YALE/SPCOMP\", trim_start=\"1980-01-02\", )\n",
    "    df[\"S&P Composite\"] = (df[\"S&P Composite\"]-df[\"S&P Composite\"][0]) / df[\"S&P Composite\"][0] * 100.0\n",
    "    df=df.resample('M').mean()\n",
    "    df.rename(columns={'S&P Composite':'sp500'}, inplace=True)\n",
    "    df = df['sp500']\n",
    "    return df\n",
    "\n",
    "def gdp_data():\n",
    "    df = quandl.get(\"BCB/4385\", trim_start=\"1975-01-01\", )\n",
    "    df[\"Value\"] = (df[\"Value\"]-df[\"Value\"][0]) / df[\"Value\"][0] * 100.0\n",
    "    df=df.resample('M').mean()\n",
    "    df.rename(columns={'Value':'GDP'}, inplace=True)\n",
    "    df = df['GDP']\n",
    "    return df\n",
    "\n",
    "def Consmr_Sentiments():\n",
    "    df = quandl.get(\"UMICH/SOC1\", trim_start=\"1975-01-01\",)\n",
    "#     df[\"Index\"] = (df[\"Index\"]-df[\"Index\"][0]) / df[\"Index\"][0] * 100.0\n",
    "#     df=df.resample('1D').mean()\n",
    "#     df=df.resample('M').mean()\n",
    "    df.rename(columns={'Index':'ConsmrSent'}, inplace=True)\n",
    "    return df"
   ]
  },
  {
   "cell_type": "code",
   "execution_count": 81,
   "metadata": {},
   "outputs": [
    {
     "name": "stdout",
     "output_type": "stream",
     "text": [
      "Year\n",
      "1980-01-31    0.000000\n",
      "1980-02-29    3.967538\n",
      "1980-03-31   -5.590622\n",
      "1980-04-30   -7.123535\n",
      "1980-05-31   -2.885482\n",
      "Freq: M, Name: sp500, dtype: float64\n",
      "            ConsmrSent\n",
      "Date                  \n",
      "1975-02-28        57.6\n",
      "1975-05-31        72.8\n",
      "1975-08-31        75.7\n",
      "1975-11-30        75.6\n",
      "1976-02-29        84.6\n"
     ]
    }
   ],
   "source": [
    "sp500 = sp500_data()\n",
    "gdp = gdp_data()\n",
    "ConsmrSent = Consmr_Sentiments()\n",
    "\n",
    "print(sp500.head(5))\n",
    "print(ConsmrSent.head(5))"
   ]
  },
  {
   "cell_type": "code",
   "execution_count": 84,
   "metadata": {},
   "outputs": [
    {
     "name": "stdout",
     "output_type": "stream",
     "text": [
      "               United States       M30     sp500       GDP  ConsmrSent\n",
      "United States       1.000000 -0.778478  0.897062  0.629950    0.048271\n",
      "M30                -0.778478  1.000000 -0.832416 -0.821398   -0.095108\n",
      "sp500               0.897062 -0.832416  1.000000  0.664362    0.151940\n",
      "GDP                 0.629950 -0.821398  0.664362  1.000000   -0.418810\n",
      "ConsmrSent          0.048271 -0.095108  0.151940 -0.418810    1.000000\n"
     ]
    }
   ],
   "source": [
    "HPI = HPI_Bench.join([m30,sp500,gdp,ConsmrSent])\n",
    "print(HPI.corr())"
   ]
  },
  {
   "cell_type": "code",
   "execution_count": 87,
   "metadata": {},
   "outputs": [],
   "source": [
    "HPI.to_pickle('HPI.pickle')\n"
   ]
  },
  {
   "cell_type": "code",
   "execution_count": 90,
   "metadata": {},
   "outputs": [
    {
     "name": "stdout",
     "output_type": "stream",
     "text": [
      "            United States       M30  sp500  GDP  ConsmrSent\n",
      "Date                                                       \n",
      "1975-01-31       0.000000  0.000000    NaN  NaN         NaN\n",
      "1975-02-28       0.649201 -3.393425    NaN  NaN        57.6\n",
      "1975-03-31       1.720612 -5.620361    NaN  NaN         NaN\n"
     ]
    }
   ],
   "source": [
    "housing_data = pd.read_pickle('HPI.pickle')\n",
    "print(housing_data.head(3))"
   ]
  },
  {
   "cell_type": "code",
   "execution_count": 93,
   "metadata": {},
   "outputs": [
    {
     "name": "stdout",
     "output_type": "stream",
     "text": [
      "            United States       M30  sp500  GDP  ConsmrSent  US_HPI_Future\n",
      "Date                                                                      \n",
      "1975-01-31       0.000000  0.000000    NaN  NaN         NaN       0.649201\n",
      "1975-02-28       0.649201 -3.393425    NaN  NaN        57.6       1.720612\n",
      "1975-03-31       1.720612 -5.620361    NaN  NaN         NaN       3.115969\n"
     ]
    }
   ],
   "source": [
    "housing_data.replace([np.inf, -np.inf],np.nan, inplace=True)\n",
    "housing_data['US_HPI_Future'] = housing_data['United States'].shift(-1)\n",
    "print(housing_data.head(3))"
   ]
  },
  {
   "cell_type": "code",
   "execution_count": 94,
   "metadata": {
    "collapsed": true
   },
   "outputs": [],
   "source": [
    "housing_data.dropna(inplace=True)"
   ]
  },
  {
   "cell_type": "code",
   "execution_count": 98,
   "metadata": {
    "collapsed": true
   },
   "outputs": [],
   "source": [
    "def create_labels(cur_hpi, fut_hpi):\n",
    "    if fut_hpi > cur_hpi:\n",
    "        return 1\n",
    "    else:\n",
    "        return 0"
   ]
  },
  {
   "cell_type": "code",
   "execution_count": 100,
   "metadata": {},
   "outputs": [
    {
     "name": "stdout",
     "output_type": "stream",
     "text": [
      "            United States        M30       sp500        GDP  ConsmrSent  \\\n",
      "Date                                                                      \n",
      "1990-01-31     199.179622   4.984093  206.555455   0.000000        93.0   \n",
      "1990-02-28     199.811050   8.165429  197.971145  -2.697505        89.5   \n",
      "1990-03-31     200.705265   8.907741  205.193868  -2.065278        91.3   \n",
      "1990-04-30     201.779928   9.968187  204.941389 -10.874318        93.9   \n",
      "1990-05-31     202.853905  11.134677  215.825068   1.006296        90.6   \n",
      "\n",
      "            US_HPI_Future  label  \n",
      "Date                              \n",
      "1990-01-31     199.811050      1  \n",
      "1990-02-28     200.705265      1  \n",
      "1990-03-31     201.779928      1  \n",
      "1990-04-30     202.853905      1  \n",
      "1990-05-31     203.893167      1  \n"
     ]
    }
   ],
   "source": [
    "housing_data['label'] = list(map(create_labels,housing_data['United States'], housing_data['US_HPI_Future']))\n",
    "print(housing_data.head())"
   ]
  },
  {
   "cell_type": "code",
   "execution_count": 132,
   "metadata": {},
   "outputs": [
    {
     "name": "stdout",
     "output_type": "stream",
     "text": [
      "            United States        M30        sp500         GDP  ConsmrSent  \\\n",
      "Date                                                                        \n",
      "2016-05-31     604.398617 -61.823966  1762.533814  290.535023        94.7   \n",
      "2016-06-30     611.252874 -62.142100  1779.071235  296.722953        93.5   \n",
      "2016-07-31     615.442467 -63.520679  1837.691614  300.713891        90.0   \n",
      "2016-08-31     617.219937 -63.520679  1857.574391  305.837570        89.8   \n",
      "2016-09-30     617.467090 -63.308590  1845.617674  294.349464        91.2   \n",
      "\n",
      "            US_HPI_Future  label  ma_apply_example  \n",
      "Date                                                \n",
      "2016-05-31     611.252874      1        -59.777306  \n",
      "2016-06-30     615.442467      1        -60.137858  \n",
      "2016-07-31     617.219937      1        -60.615058  \n",
      "2016-08-31     617.467090      1        -60.996819  \n",
      "2016-09-30     617.295803      0        -61.505832  \n"
     ]
    }
   ],
   "source": [
    "def moving_average(values):\n",
    "    ma = np.mean(values)\n",
    "    return ma\n",
    "\n",
    "\n",
    "housing_data['ma_apply_example'] = housing_data['M30'].rolling(10).apply(moving_average)\n",
    "\n",
    "print(housing_data.tail())\n",
    "housing_data.dropna(inplace=True)\n"
   ]
  },
  {
   "cell_type": "code",
   "execution_count": 133,
   "metadata": {},
   "outputs": [
    {
     "name": "stdout",
     "output_type": "stream",
     "text": [
      "            United States       M30       sp500        GDP  ConsmrSent  \\\n",
      "Date                                                                     \n",
      "1990-10-31     203.202580  7.953340  176.934175  11.798952        63.9   \n",
      "1990-11-30     202.073387  6.150583  184.301172   8.890704        66.0   \n",
      "1990-12-31     201.504693  2.545069  196.438233  -4.249098        65.5   \n",
      "1991-01-31     201.332156  2.226935  193.498647 -19.783462        66.8   \n",
      "1991-02-28     201.356648 -0.636267  226.654644 -22.963041        70.4   \n",
      "\n",
      "            US_HPI_Future  label  ma_apply_example  \n",
      "Date                                                \n",
      "1990-10-31     202.073387      0          8.038176  \n",
      "1990-11-30     201.504693      0          8.154825  \n",
      "1990-12-31     201.332156      0          7.592789  \n",
      "1991-01-31     201.356648      1          6.924708  \n",
      "1991-02-28     201.815294      1          5.864263  \n"
     ]
    }
   ],
   "source": [
    "from sklearn import svm, preprocessing, cross_validation\n",
    "print(housing_data.head())"
   ]
  },
  {
   "cell_type": "code",
   "execution_count": 138,
   "metadata": {},
   "outputs": [
    {
     "name": "stdout",
     "output_type": "stream",
     "text": [
      "[[-1.34193362  2.30892819 -1.72347457 -0.91670838 -1.77795088  2.25057904]\n",
      " [-1.34995724  2.20756201 -1.70615013 -0.9345671  -1.61215286  2.25712109]\n",
      " [-1.35399818  2.00482965 -1.67760826 -1.01525487 -1.65162858  2.22560029]\n",
      " ..., \n",
      " [ 1.58729106 -1.70994274  2.18201099  0.85743595  0.28268156 -1.5997171 ]\n",
      " [ 1.5999211  -1.70994274  2.22876791  0.888899    0.26689128 -1.62112746]\n",
      " [ 1.60167728 -1.6980173   2.20065014  0.81835382  0.37742328 -1.64967461]]\n"
     ]
    }
   ],
   "source": [
    "X = np.array(housing_data.drop(['label','US_HPI_Future'], axis=1))\n",
    "X = preprocessing.scale(X) #will scale to -1 to 1\n",
    "print(X)"
   ]
  },
  {
   "cell_type": "code",
   "execution_count": 140,
   "metadata": {},
   "outputs": [
    {
     "name": "stdout",
     "output_type": "stream",
     "text": [
      "[0 0 0 1 1 1 1 1 1 0 0 1 1 1 1 1 1 1 0 1 1 1 1 1 0 0 0 0 1 1 1 1 1 1 0 0 0\n",
      " 0 0 1 1 1 1 1 1 1 0 0 0 0 0 1 1 1 1 1 1 1 0 0 0 0 1 1 1 1 1 1 1 0 0 0 0 0\n",
      " 1 1 1 1 1 1 1 1 1 1 1 1 1 1 1 1 1 1 1 1 1 1 1 1 1 1 1 1 1 1 1 1 1 1 1 1 1\n",
      " 1 1 1 1 1 1 1 1 1 1 1 1 1 1 1 1 1 1 1 1 1 1 1 1 1 1 1 1 1 1 1 1 1 1 1 1 1\n",
      " 1 1 1 1 1 1 1 1 1 1 1 1 1 1 1 1 1 1 1 1 1 1 1 1 1 1 1 1 1 1 1 1 1 0 1 1 1\n",
      " 1 1 1 1 0 0 0 0 0 0 1 1 1 1 0 0 0 0 0 0 0 0 0 0 0 0 0 0 0 0 0 0 0 0 0 0 1\n",
      " 1 1 1 0 0 0 0 0 0 0 1 1 1 0 0 0 0 0 0 0 0 0 1 1 1 1 0 0 0 0 0 0 0 1 1 1 1\n",
      " 1 1 1 1 1 1 1 1 1 1 1 1 1 1 1 1 0 0 0 1 1 1 1 1 1 1 1 0 0 0 0 1 1 1 1 1 1\n",
      " 1 1 1 0 0 0 1 1 1 1 1 1 1 1 1 0]\n"
     ]
    }
   ],
   "source": [
    "y = np.array(housing_data['label'])\n",
    "print(y)"
   ]
  },
  {
   "cell_type": "code",
   "execution_count": 154,
   "metadata": {},
   "outputs": [],
   "source": [
    "X_train, X_test, y_train, y_test = cross_validation.train_test_split (X, y, test_size = 0.2)"
   ]
  },
  {
   "cell_type": "code",
   "execution_count": 155,
   "metadata": {
    "collapsed": true
   },
   "outputs": [],
   "source": [
    "clf = svm.SVC(kernel='linear')"
   ]
  },
  {
   "cell_type": "code",
   "execution_count": 156,
   "metadata": {},
   "outputs": [
    {
     "data": {
      "text/plain": [
       "SVC(C=1.0, cache_size=200, class_weight=None, coef0=0.0,\n",
       "  decision_function_shape='ovr', degree=3, gamma='auto', kernel='linear',\n",
       "  max_iter=-1, probability=False, random_state=None, shrinking=True,\n",
       "  tol=0.001, verbose=False)"
      ]
     },
     "execution_count": 156,
     "metadata": {},
     "output_type": "execute_result"
    }
   ],
   "source": [
    "clf.fit(X_train, y_train)"
   ]
  },
  {
   "cell_type": "code",
   "execution_count": 157,
   "metadata": {},
   "outputs": [
    {
     "name": "stdout",
     "output_type": "stream",
     "text": [
      "0.714285714286\n"
     ]
    }
   ],
   "source": [
    "print(clf.score(X_test, y_test))"
   ]
  },
  {
   "cell_type": "code",
   "execution_count": null,
   "metadata": {
    "collapsed": true
   },
   "outputs": [],
   "source": []
  }
 ],
 "metadata": {
  "kernelspec": {
   "display_name": "Python 3",
   "language": "python",
   "name": "python3"
  },
  "language_info": {
   "codemirror_mode": {
    "name": "ipython",
    "version": 3
   },
   "file_extension": ".py",
   "mimetype": "text/x-python",
   "name": "python",
   "nbconvert_exporter": "python",
   "pygments_lexer": "ipython3",
   "version": "3.6.4"
  }
 },
 "nbformat": 4,
 "nbformat_minor": 2
}
