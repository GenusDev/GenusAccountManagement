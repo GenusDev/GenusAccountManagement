{
 "cells": [
  {
   "cell_type": "markdown",
   "metadata": {},
   "source": [
    "# Identify High Std in High Value \n",
    "## companies to purchase on the down swing"
   ]
  },
  {
   "cell_type": "code",
   "execution_count": 3,
   "metadata": {
    "collapsed": true
   },
   "outputs": [],
   "source": [
    "import csv\n",
    "import pandas as pd\n",
    "import pandas_datareader.data as web\n",
    "import numpy as np\n",
    "import datetime as dt\n",
    "import matplotlib.pyplot as plt\n",
    "from matplotlib import style\n",
    "import quandl\n",
    "import joblib\n",
    "import pickle\n",
    "\n",
    "style.use(\"ggplot\")\n",
    "\n",
    "#set Quandl API Key:\n",
    "quandl.ApiConfig.api_key = \"zn_WwkZ-9a8vWzV_oX73\""
   ]
  },
  {
   "cell_type": "code",
   "execution_count": 10,
   "metadata": {},
   "outputs": [
    {
     "name": "stdout",
     "output_type": "stream",
     "text": [
      "    meters          STD\n",
      "0    10.26          NaN\n",
      "1    10.31     0.035355\n",
      "2    10.27     0.028284\n",
      "3    10.22     0.035355\n",
      "4    10.23     0.007071\n",
      "5  6212.42  4385.610607\n",
      "6    10.28  4385.575252\n",
      "7    10.25     0.021213\n",
      "8    10.31     0.042426\n"
     ]
    }
   ],
   "source": [
    "bridge_height = {'meters':[10.26, 10.31, 10.27, 10.22, 10.23, 6212.42, 10.28, 10.25, 10.31]}\n",
    "df = pd.DataFrame(bridge_height)\n",
    "\n",
    "df['STD'] = df.rolling(2).std()\n",
    "print(df)"
   ]
  },
  {
   "cell_type": "code",
   "execution_count": 13,
   "metadata": {},
   "outputs": [
    {
     "name": "stdout",
     "output_type": "stream",
     "text": [
      "            meters          STD\n",
      "count     9.000000     8.000000\n",
      "mean    699.394444  1096.419446\n",
      "std    2067.384584  2030.121949\n",
      "min      10.220000     0.007071\n",
      "25%      10.250000     0.026517\n",
      "50%      10.270000     0.035355\n",
      "75%      10.310000  1096.425633\n",
      "max    6212.420000  4385.610607\n",
      "2067.38458357\n"
     ]
    }
   ],
   "source": [
    "df_std = df.describe()\n",
    "print(df_std)\n",
    "df_std = df.describe()['meters']['std']\n",
    "print(df_std)\n"
   ]
  },
  {
   "cell_type": "code",
   "execution_count": 15,
   "metadata": {},
   "outputs": [
    {
     "name": "stdout",
     "output_type": "stream",
     "text": [
      "   meters       STD\n",
      "1   10.31  0.035355\n",
      "2   10.27  0.028284\n",
      "3   10.22  0.035355\n",
      "4   10.23  0.007071\n",
      "7   10.25  0.021213\n",
      "8   10.31  0.042426\n"
     ]
    }
   ],
   "source": [
    "df = df[(df['STD'] < df_std)]\n",
    "print(df)"
   ]
  },
  {
   "cell_type": "code",
   "execution_count": 16,
   "metadata": {},
   "outputs": [
    {
     "data": {
      "image/png": "[encoded data removed]",
      "text/plain": [
       "<matplotlib.figure.Figure at 0x11c3b1a20>"
      ]
     },
     "metadata": {},
     "output_type": "display_data"
    }
   ],
   "source": [
    "df['meters'].plot()\n",
    "plt.show()\n"
   ]
  },
  {
   "cell_type": "code",
   "execution_count": null,
   "metadata": {
    "collapsed": true
   },
   "outputs": [],
   "source": []
  }
 ],
 "metadata": {
  "kernelspec": {
   "display_name": "Python 3",
   "language": "python",
   "name": "python3"
  },
  "language_info": {
   "codemirror_mode": {
    "name": "ipython",
    "version": 3
   },
   "file_extension": ".py",
   "mimetype": "text/x-python",
   "name": "python",
   "nbconvert_exporter": "python",
   "pygments_lexer": "ipython3",
   "version": "3.6.4"
  }
 },
 "nbformat": 4,
 "nbformat_minor": 2
}
