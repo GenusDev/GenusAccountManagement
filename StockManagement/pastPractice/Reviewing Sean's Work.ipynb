{
 "cells": [
  {
   "cell_type": "code",
   "execution_count": 1,
   "metadata": {},
   "outputs": [
    {
     "ename": "SyntaxError",
     "evalue": "can't assign to operator (<ipython-input-1-0843b4871dd5>, line 34)",
     "output_type": "error",
     "traceback": [
      "\u001b[0;36m  File \u001b[0;32m\"<ipython-input-1-0843b4871dd5>\"\u001b[0;36m, line \u001b[0;32m34\u001b[0m\n\u001b[0;31m    context.number-sector[sector] = 0\u001b[0m\n\u001b[0m    ^\u001b[0m\n\u001b[0;31mSyntaxError\u001b[0m\u001b[0;31m:\u001b[0m can't assign to operator\n"
     ]
    }
   ],
   "source": [
    "import math\n",
    "import talib\n",
    "import numpy as np\n",
    "from scipy import stats\n",
    "import statsmodels.tsa.stattools as ts\n",
    "\n",
    "from quantopian.pipeline import Pipeline\n",
    "from quantopian.pipeline.data.morningstar import earnings_ratios\n",
    "import statsmodels.tsa.stattools as ts\n",
    "from quantopian.algorithm import attach_pipeline, pipeline_output\n",
    "\n",
    "##Initialize with pipeline_output\n",
    "# define Universe\n",
    "def initialize(context):\n",
    "    # define Universe\n",
    "    initUniverse(context)\n",
    "    context.spy = sid(8554) # The SID 8554 refers to the S&P500 SPYDER fund.\n",
    "    context.nvs = sid(21536)  # NOVARTIS\n",
    "    context.nvda = sid(19725) #NVIDIA! \n",
    "    #define security number in portfolio. TODO: change, use for test purpose.\n",
    "    context.num_sec = 3\n",
    "    #Allocation for each stock\n",
    "    context.lim_sector = math.floor(context.num_sec * max_alloc_sector)\n",
    "    try:\n",
    "        context.init = True\n",
    "    except:\n",
    "        # First initialization begins a dict for all sectors.\n",
    "        context.init = False\n",
    "        # dictionary of key: sector in portfolio and value: number of stocks\n",
    "        context.number_sector = dict()\n",
    "        #init at 0\n",
    "        for stock in context.securities:\n",
    "            sector = context.dict_sector[stock.symbol]\n",
    "            context.number-sector[sector] = 0\n",
    "        # Initialize at 0\n",
    "        for stock in context.securities:\n",
    "            sector = context.dict_secotr[stock.symbol]\n",
    "            context.number_sector[sector] = 0\n",
    "        #Initialize the Index\n",
    "        context.index = dict()\n",
    "        #First 12 months, activate init of size 100 TODO change later\n",
    "        for stock in context.securities:\n",
    "            context.index[stock] = []\n",
    "            for i in range(12):\n",
    "                context.index[stock].append(100)\n",
    "            context.in_aggregate = True\n",
    "            #Determine if action is required\n",
    "            context.weekly_action = False\n",
    "            context.monthly_action = False\n",
    "        #TODO\n",
    "## Activation action\n",
    "#TODO\n",
    "## Weekly action\n",
    "#TODO\n",
    "\n",
    "### Daily Action\n",
    "pass\n",
    "\n",
    "# Perform portfolio rebalance / portfolio maanagement.\n",
    "\n",
    "## Stock Universe Define\n"
   ]
  },
  {
   "cell_type": "code",
   "execution_count": 2,
   "metadata": {
    "collapsed": true
   },
   "outputs": [],
   "source": [
    "def initUniverse(context):\n",
    "    #to do: replace symbols with actual stocks in our portfolio for future modeling.\n",
    "    context.securities = symbols('SPY')"
   ]
  },
  {
   "cell_type": "code",
   "execution_count": null,
   "metadata": {
    "collapsed": true
   },
   "outputs": [],
   "source": []
  }
 ],
 "metadata": {
  "kernelspec": {
   "display_name": "Python 3",
   "language": "python",
   "name": "python3"
  },
  "language_info": {
   "codemirror_mode": {
    "name": "ipython",
    "version": 3
   },
   "file_extension": ".py",
   "mimetype": "text/x-python",
   "name": "python",
   "nbconvert_exporter": "python",
   "pygments_lexer": "ipython3",
   "version": "3.6.3"
  }
 },
 "nbformat": 4,
 "nbformat_minor": 2
}
